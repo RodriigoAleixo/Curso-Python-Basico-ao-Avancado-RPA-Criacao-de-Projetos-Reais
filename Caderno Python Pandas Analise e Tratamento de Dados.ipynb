{
 "cells": [
  {
   "cell_type": "code",
   "execution_count": null,
   "metadata": {},
   "outputs": [
    {
     "name": "stdout",
     "output_type": "stream",
     "text": [
      "DatetimeIndex(['2022-12-01', '2022-12-02', '2022-12-03', '2022-12-04',\n",
      "               '2022-12-05', '2022-12-06', '2022-12-07', '2022-12-08',\n",
      "               '2022-12-09', '2022-12-10', '2022-12-11', '2022-12-12',\n",
      "               '2022-12-13', '2022-12-14', '2022-12-15', '2022-12-16',\n",
      "               '2022-12-17', '2022-12-18', '2022-12-19', '2022-12-20',\n",
      "               '2022-12-21', '2022-12-22', '2022-12-23', '2022-12-24',\n",
      "               '2022-12-25', '2022-12-26', '2022-12-27', '2022-12-28',\n",
      "               '2022-12-29', '2022-12-30', '2022-12-31'],\n",
      "              dtype='datetime64[ns]', freq='D')\n"
     ]
    }
   ],
   "source": [
    "import pandas as pd\n",
    "import numpy as np\n",
    "\n",
    "#periods = quantos dias\n",
    "#20221201 = Ano / Mês / Dia\n",
    "dadaFrame_data = pd.date_range(\"20221201\", periods=31)\n",
    "\n",
    "print(dadaFrame_data)"
   ]
  },
  {
   "cell_type": "code",
   "execution_count": null,
   "metadata": {},
   "outputs": [
    {
     "name": "stdout",
     "output_type": "stream",
     "text": [
      "DatetimeIndex(['2022-12-31', '2023-01-31', '2023-02-28', '2023-03-31',\n",
      "               '2023-04-30', '2023-05-31', '2023-06-30', '2023-07-31',\n",
      "               '2023-08-31', '2023-09-30', '2023-10-31', '2023-11-30'],\n",
      "              dtype='datetime64[ns]', freq='ME')\n"
     ]
    },
    {
     "name": "stderr",
     "output_type": "stream",
     "text": [
      "/tmp/ipykernel_56006/2685268260.py:6: FutureWarning: 'M' is deprecated and will be removed in a future version, please use 'ME' instead.\n",
      "  dadaFrame_meses = pd.date_range(\"20221231\", periods=12, freq=\"M\")\n"
     ]
    }
   ],
   "source": [
    "import pandas as pd\n",
    "import numpy as np\n",
    "\n",
    "#periods = quantos meses\n",
    "#20221201 = Ano / Mês / Dia\n",
    "dadaFrame_meses = pd.date_range(\"20221231\", periods=12, freq=\"M\")\n",
    "\n",
    "print(dadaFrame_meses)"
   ]
  },
  {
   "cell_type": "code",
   "execution_count": null,
   "metadata": {},
   "outputs": [
    {
     "name": "stdout",
     "output_type": "stream",
     "text": [
      "          0\n",
      "0  0.822862\n",
      "1  0.249784\n",
      "2  0.117386\n",
      "3  0.255997\n",
      "4  0.476402\n"
     ]
    }
   ],
   "source": [
    "import pandas as pd\n",
    "import numpy as np\n",
    "\n",
    "#DataFrame de números aleatórios\n",
    "n_aleatorio = pd.DataFrame(np.random.rand(5,1))\n",
    "\n",
    "print(n_aleatorio)"
   ]
  },
  {
   "cell_type": "code",
   "execution_count": 5,
   "metadata": {},
   "outputs": [
    {
     "name": "stdout",
     "output_type": "stream",
     "text": [
      "            0          1          2          3          4          5  \\\n",
      "0   11.355110  17.047654   7.353432  32.434266  61.697085  16.799273   \n",
      "1   37.618994  80.069714   0.734127  97.953956   4.557734  38.517113   \n",
      "2   16.717319  70.089099  17.372433  94.276546  20.159925  79.374833   \n",
      "3    9.721439  49.384455  50.238486  58.196341  81.825054  70.780188   \n",
      "4   41.569484  19.939205  37.578500  67.156193  51.753572  56.512645   \n",
      "5   32.917497   5.329917  96.830619  41.588965  31.380246  69.216355   \n",
      "6   47.333179   8.181494  48.868960  17.009526  95.731991  61.094604   \n",
      "7   44.112311  72.036404  77.063372  59.575472  18.752942  57.551387   \n",
      "8   14.088135   2.553034  25.915603  72.826709  12.943317  98.495854   \n",
      "9   47.608024  44.290897  27.786687  81.192081  88.697371  96.993179   \n",
      "10  91.226067  68.839498  10.714698  10.843768  18.350323  39.368961   \n",
      "11  34.046909  71.629820  90.899218  84.097477  36.018012  31.665979   \n",
      "12  70.835679  86.094315   7.523355  34.582678  21.614510   7.153863   \n",
      "13  48.526152  55.897204   2.521367  32.684892  27.153577  94.393381   \n",
      "14  58.610553  96.101569  21.280670  39.342718  83.030689  22.936818   \n",
      "\n",
      "            6          7          8          9  \n",
      "0   90.909037  45.483442  14.545606  33.485886  \n",
      "1   37.468793  77.075843  82.202863  98.370052  \n",
      "2   67.039679  86.302783   6.380718  55.635329  \n",
      "3   81.029294   2.067141  69.499184  16.926058  \n",
      "4   94.954441  59.177679  62.964366  25.102576  \n",
      "5   96.184797  81.419408  71.925705  22.308946  \n",
      "6   70.359015   0.349728  54.055631  48.426950  \n",
      "7   72.127740  96.909118  35.281818   3.264851  \n",
      "8   26.452996  56.058026   8.522472  69.379922  \n",
      "9   84.297094   1.306712  32.502852  15.598985  \n",
      "10  34.910387  47.360235  76.133023  24.018720  \n",
      "11  55.763349  74.370325  67.904248  76.365511  \n",
      "12   6.981908  69.840641  36.674498  75.939191  \n",
      "13   0.468912  85.426531  31.133592  41.185471  \n",
      "14   2.772673  30.326423  71.428604  91.746802  \n"
     ]
    }
   ],
   "source": [
    "import pandas as pd\n",
    "import numpy as np\n",
    "\n",
    "#DataFrame de números aleatórios\n",
    "n_aleatorio = pd.DataFrame(np.random.rand(15,10)*100)\n",
    "\n",
    "print(n_aleatorio)"
   ]
  },
  {
   "cell_type": "code",
   "execution_count": 8,
   "metadata": {},
   "outputs": [
    {
     "name": "stdout",
     "output_type": "stream",
     "text": [
      "    Nome  Média\n",
      "0    Ana      9\n",
      "1  Pedro      7\n",
      "2   João     10\n"
     ]
    }
   ],
   "source": [
    "import pandas as pd\n",
    "import numpy as np\n",
    "\n",
    "notas_alunos = pd.DataFrame({\n",
    "\n",
    "    \"Nome\": [\"Ana\", \"Pedro\", \"João\"],\n",
    "    \"Média\": [9, 7, 10]\n",
    "\n",
    "})\n",
    "\n",
    "print(notas_alunos)"
   ]
  },
  {
   "cell_type": "code",
   "execution_count": 10,
   "metadata": {},
   "outputs": [
    {
     "data": {
      "text/html": [
       "<div>\n",
       "<style scoped>\n",
       "    .dataframe tbody tr th:only-of-type {\n",
       "        vertical-align: middle;\n",
       "    }\n",
       "\n",
       "    .dataframe tbody tr th {\n",
       "        vertical-align: top;\n",
       "    }\n",
       "\n",
       "    .dataframe thead th {\n",
       "        text-align: right;\n",
       "    }\n",
       "</style>\n",
       "<table border=\"1\" class=\"dataframe\">\n",
       "  <thead>\n",
       "    <tr style=\"text-align: right;\">\n",
       "      <th></th>\n",
       "      <th>Nome</th>\n",
       "      <th>Nona1</th>\n",
       "      <th>Nona2</th>\n",
       "      <th>Nona3</th>\n",
       "      <th>Nona4</th>\n",
       "    </tr>\n",
       "  </thead>\n",
       "  <tbody>\n",
       "    <tr>\n",
       "      <th>0</th>\n",
       "      <td>Ana</td>\n",
       "      <td>9</td>\n",
       "      <td>9</td>\n",
       "      <td>7</td>\n",
       "      <td>10</td>\n",
       "    </tr>\n",
       "    <tr>\n",
       "      <th>1</th>\n",
       "      <td>Pedro</td>\n",
       "      <td>7</td>\n",
       "      <td>9</td>\n",
       "      <td>5</td>\n",
       "      <td>10</td>\n",
       "    </tr>\n",
       "    <tr>\n",
       "      <th>2</th>\n",
       "      <td>João</td>\n",
       "      <td>10</td>\n",
       "      <td>8</td>\n",
       "      <td>10</td>\n",
       "      <td>6</td>\n",
       "    </tr>\n",
       "  </tbody>\n",
       "</table>\n",
       "</div>"
      ],
      "text/plain": [
       "    Nome  Nona1  Nona2  Nona3  Nona4\n",
       "0    Ana      9      9      7     10\n",
       "1  Pedro      7      9      5     10\n",
       "2   João     10      8     10      6"
      ]
     },
     "metadata": {},
     "output_type": "display_data"
    }
   ],
   "source": [
    "import pandas as pd\n",
    "import numpy as np\n",
    "\n",
    "notasAlunos_DataFrame = pd.DataFrame({\n",
    "    \"Nome\": [\"Ana\", \"Pedro\", \"João\"],\n",
    "    \"Nona1\": [9, 7, 10],\n",
    "    \"Nona2\": [9, 9, 8],\n",
    "    \"Nona3\": [7, 5, 10],\n",
    "    \"Nona4\": [10, 10, 6]\n",
    "\n",
    "})\n",
    "\n",
    "display(notasAlunos_DataFrame)"
   ]
  },
  {
   "cell_type": "code",
   "execution_count": null,
   "metadata": {},
   "outputs": [],
   "source": [
    "import pandas as pd\n",
    "import numpy as np\n",
    "\n",
    "notasAlunos_DataFrame = pd.DataFrame({\n",
    "    \"Nome\": [\"Ana\", \"Pedro\", \"João\"],\n",
    "    \"Nona1\": [9, 7, 10],\n",
    "    \"Nona2\": [9, 9, 8],\n",
    "    \"Nona3\": [7, 5, 10],\n",
    "    \"Nona4\": [10, 10, 6]\n",
    "\n",
    "})\n",
    "\n",
    "notasAlunos_DataFrame\n",
    "\n",
    "display(notasAlunos_DataFrame)"
   ]
  }
 ],
 "metadata": {
  "kernelspec": {
   "display_name": "Curso_Python",
   "language": "python",
   "name": "python3"
  },
  "language_info": {
   "codemirror_mode": {
    "name": "ipython",
    "version": 3
   },
   "file_extension": ".py",
   "mimetype": "text/x-python",
   "name": "python",
   "nbconvert_exporter": "python",
   "pygments_lexer": "ipython3",
   "version": "3.12.3"
  }
 },
 "nbformat": 4,
 "nbformat_minor": 2
}
