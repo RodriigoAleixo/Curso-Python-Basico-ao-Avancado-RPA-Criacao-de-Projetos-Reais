{
 "cells": [
  {
   "cell_type": "code",
   "execution_count": 37,
   "metadata": {},
   "outputs": [
    {
     "name": "stdout",
     "output_type": "stream",
     "text": [
      "Script executado com sucesso!\n"
     ]
    }
   ],
   "source": [
    "# Este sinal serve para comentar um código para que o usuário saiba o que o código faz\n",
    "\"\"\"\n",
    "Usando 3 aspas podemos\n",
    "comentar várias linhas\n",
    "assim quando o código for execurtado o script pula estas linhas\n",
    "\"\"\"\n",
    "\n",
    "print (\"Script executado com sucesso!\")"
   ]
  },
  {
   "cell_type": "code",
   "execution_count": 38,
   "metadata": {},
   "outputs": [
    {
     "name": "stdout",
     "output_type": "stream",
     "text": [
      "Inteiro: 42\n",
      "Flutuante: 42.0\n",
      "Complexo: (3+4j)\n",
      "Texto: Olá, Mundo!\n",
      "Lista: [1, 2, 3]\n",
      "Tupla: (1, 2, 3, 4, 5)\n",
      "Conjunto: {1, 2, 3}\n",
      "Dicionário: {'chave': 'valor'}\n",
      "Booleano: True\n",
      "NoneType (None): None\n"
     ]
    }
   ],
   "source": [
    "\"\"\"\"\n",
    "O que é uma variável\n",
    "\n",
    "Uma variável é um nome que se refere a um valor armazenado na memória do computaro.\n",
    "Em programação, as variáveis são usadas para armazenar dados que podem ser utilizados e manipulados ao longo de um programa.\n",
    "\n",
    "Em Python, as variáveis não são declaradas como um tipo especifico.\n",
    "No entanto, os tipos de dados que você pode armazenar em uma variável incluem:\n",
    "\"\"\"\n",
    "\n",
    "# Principais tipos de variaveis\n",
    "\n",
    "#Inteiros (int): Números reais, sem parte decimal.\n",
    "inteiro = 42\n",
    "print(\"Inteiro:\", inteiro)\n",
    "\n",
    "#Ponto  Flutuante (float): Números reais, que têm uma parte decimal.\n",
    "flutuante = 42.0\n",
    "print (\"Flutuante:\", flutuante)\n",
    "\n",
    "#Complexos (complex): Números complexos, quem te uma parte real e uma parte imaginária .\n",
    "complexo = 3 + 4j\n",
    "print (\"Complexo:\", complexo)\n",
    "\n",
    "#Strings (str): Sequências de caracteres\n",
    "texto = \"Olá, Mundo!\"\n",
    "print(\"Texto:\", texto)\n",
    "\n",
    "\"\"\"\"\n",
    "Os termos \"mutável\" e \"imutável\" referem-se à capacidade de alterar o conteúdo de um objeto depois que ele foi criado.\n",
    "\n",
    "Mutável: Significa que o conteúdo do objeto pode ser alterado após sua criação. As listas em Python são mutáveis, o que significa que você\n",
    "pode mudar seus elementos.\n",
    "\n",
    "Imutável: Significa que o conteúdo do objeto não pode ser alterado após sua criação. As tuplas em Python são imutáveis, o que significa que,\n",
    "uma vez criada, você não pode modificar seus elementos.\n",
    "\"\"\"\n",
    "\n",
    "#Listas (list): Uma coleção ordenada e mutável.\n",
    "lista = [1, 2, 3]\n",
    "print(\"Lista:\", lista)\n",
    "\n",
    "#Tuplas (tuple): Uma coleção ordenada e imutável.\n",
    "tupla = (1, 2, 3, 4, 5)\n",
    "print(\"Tupla:\", tupla)\n",
    "\n",
    "#Conjunto (set): Uma coleção não ordenada de itens únicos.\n",
    "conjunto = {1, 2, 3, 3}\n",
    "print(\"Conjunto:\", conjunto)\n",
    "\n",
    "#Dicionários (dict): Uma coleção não ordenada de pares chave-valor.\n",
    "dicionario = {\"chave\":\"valor\"}\n",
    "print(\"Dicionário:\", dicionario)\n",
    "\n",
    "#Booleanos (bool): Valores verdadeiro ou falso.\n",
    "booleano = True\n",
    "print(\"Booleano:\", booleano)\n",
    "\n",
    "#NoneType (None): Um tipo especial que reprensta a ausência de valor.\n",
    "nenhum = None\n",
    "print(\"NoneType (None):\", nenhum)"
   ]
  },
  {
   "cell_type": "code",
   "execution_count": 34,
   "metadata": {},
   "outputs": [
    {
     "name": "stdout",
     "output_type": "stream",
     "text": [
      "Nome: Nicole\n",
      "Idade: 30\n",
      "Nome: Nicole , Idade: 30\n"
     ]
    },
    {
     "data": {
      "text/plain": [
       "'\\nidade = 30: Nesta linha, estamos declarando uma variável chamada idade e atribuindo o valor 30 a ela. Essa variável pode ser usada\\nposteriormente no código para referenciar esse valor.\\n\\nnome = \"Nicole\": Aqui, estamos declarando uma variável chamada nome e atribuindo a ela a string \"Nicole\". Assim como a variável idade, essa\\nvariável também pode ser usada posteriormente no código\\n\\nprint(\"Nome:\", nome, \", Idade:\", idade): Esta linha usada na função prin para imprimir uma string na tela. Ela começa com a string literal\\n\"Nome:\", seguida pelo valor da variável nome, que é \"Nicole\" uma string literal com espaço e \"Idade:\", e finalmente o valor da variável\\nidade que é 30.\\n'"
      ]
     },
     "execution_count": 34,
     "metadata": {},
     "output_type": "execute_result"
    }
   ],
   "source": [
    "#Variáveis\n",
    "\n",
    "idade = 30\n",
    "nome = \"Nicole\"\n",
    "\n",
    "print(\"Nome:\", nome)\n",
    "print(\"Idade:\", idade)\n",
    "print(\"Nome:\", nome, \", Idade:\", idade)\n",
    "\n",
    "\"\"\"\n",
    "idade = 30: Nesta linha, estamos declarando uma variável chamada idade e atribuindo o valor 30 a ela. Essa variável pode ser usada\n",
    "posteriormente no código para referenciar esse valor.\n",
    "\n",
    "nome = \"Nicole\": Aqui, estamos declarando uma variável chamada nome e atribuindo a ela a string \"Nicole\". Assim como a variável idade, essa\n",
    "variável também pode ser usada posteriormente no código\n",
    "\n",
    "print(\"Nome:\", nome, \", Idade:\", idade): Esta linha usada na função prin para imprimir uma string na tela. Ela começa com a string literal\n",
    "\"Nome:\", seguida pelo valor da variável nome, que é \"Nicole\" uma string literal com espaço e \"Idade:\", e finalmente o valor da variável\n",
    "idade que é 30.\n",
    "\"\"\""
   ]
  },
  {
   "cell_type": "code",
   "execution_count": 35,
   "metadata": {},
   "outputs": [
    {
     "name": "stdout",
     "output_type": "stream",
     "text": [
      "<class 'str'>\n",
      "<class 'int'>\n"
     ]
    }
   ],
   "source": [
    "#Podemos obter o tipo de ma variável usando a função type\n",
    "\n",
    "\"\"\"\n",
    "nome = str(\"Ana Paula\"): A string \"Ana Paula\" é passada para a função str(), o que retorna a mesma string. A função str() é desnecessária\n",
    "neste caso, pois \"Ana Paula\" já é uma string. A variável nome é atribuida a essa string.\n",
    "\n",
    "idade = int(31): O número inteiro 31 é passado para a função int(), que retorna o mesmo número. Novamente, a função é desnecessária,\n",
    "pois 31 já é um inteiro. A variável idade é atribuida a esse valor inteiro.\n",
    "\n",
    "print(type(nome)): A função type() retorna o tipo da variável nome, que é <class 'str'>, já que o nome é uma string. Esse valor é impresso,\n",
    "resultando na saída:\n",
    "\n",
    "\"\"\"\n",
    "nome = \"Ana Paula\"\n",
    "idade = 31\n",
    "\n",
    "print(type(nome))\n",
    "print(type(idade))"
   ]
  },
  {
   "cell_type": "code",
   "execution_count": 36,
   "metadata": {},
   "outputs": [
    {
     "name": "stdout",
     "output_type": "stream",
     "text": [
      "30\n",
      "Ana\n"
     ]
    }
   ],
   "source": [
    "#As variáveis diferenciam letras maiúsculas e minúsculas\n",
    "\n",
    "i = 30\n",
    "I = \"Ana\"\n",
    "print(i)\n",
    "print(I)"
   ]
  },
  {
   "cell_type": "code",
   "execution_count": 31,
   "metadata": {},
   "outputs": [
    {
     "name": "stdout",
     "output_type": "stream",
     "text": [
      "Texto 1\n",
      "Texto 2\n",
      "Texto 3\n",
      "Texto 4\n"
     ]
    }
   ],
   "source": [
    "# Podemos também atribuir valors a várias variáveis em uma só linha\n",
    "\n",
    "\"\"\"\n",
    "O código está utilizando o desempacotamento de tupla para atribuir várias variáveis em uma única linha e, em seguida, imprimindo essas\n",
    "variáveis\n",
    "\n",
    "var1, var2, var3, var4 = \"Texto 1\", \"Texto 2\", \"Texto 3\", \"Texto 4\":\n",
    "Nesta linha, quatro strings são atribuídas a quatro variáveis respectivas em uma única operação\n",
    "\n",
    "A variável vr1 é atribuída à string \"Texto 1\"\n",
    "A variável vr2 é atribuída à string \"Texto 2\"\n",
    "A variável vr3 é atribuída à string \"Texto 3\"\n",
    "A variável vr4 é atribuída à string \"Texto 4\"\n",
    "\"\"\"\n",
    "\n",
    "var1, var2, var3, var4 = \"Texto 1\", \"Texto 2\", \"Texto 3\", \"Texto 4\"\n",
    "print(var1)\n",
    "print(var2)\n",
    "print(var3)\n",
    "print(var4)\n"
   ]
  },
  {
   "cell_type": "code",
   "execution_count": 32,
   "metadata": {},
   "outputs": [
    {
     "name": "stdout",
     "output_type": "stream",
     "text": [
      "Ana Paula\n",
      "Ana Paula\n",
      "Ana Paula\n",
      "Ana Paula\n"
     ]
    }
   ],
   "source": [
    "# Podemos atribuir o mesmo valor a várias variáveis em um a única linha\n",
    "\n",
    "var1 = var2 = var3 = var4 = \"Ana Paula\"\n",
    "\n",
    "print(var1)\n",
    "print(var2)\n",
    "print(var3)\n",
    "print(var4)"
   ]
  },
  {
   "cell_type": "code",
   "execution_count": 43,
   "metadata": {},
   "outputs": [
    {
     "name": "stdout",
     "output_type": "stream",
     "text": [
      "Texto 1\n",
      "Texto 2\n",
      "Texto 3\n",
      "Texto 4\n"
     ]
    }
   ],
   "source": [
    "# Se tiver uma coleção de valores em uma lista, podemos exrair em variáveis. Isso é chamado de descompactar\n",
    "exemplo = \"Texto 1\", \"Texto 2\", \"Texto 3\", \"Texto 4\"\n",
    "var1, var2, var3, var4 = exemplo\n",
    "\n",
    "print(var1)\n",
    "print(var2)\n",
    "print(var3)\n",
    "print(var4)"
   ]
  },
  {
   "cell_type": "code",
   "execution_count": 47,
   "metadata": {},
   "outputs": [
    {
     "name": "stdout",
     "output_type": "stream",
     "text": [
      "O nome dela é: Ana Paula\n"
     ]
    }
   ],
   "source": [
    "# Para juntar textos e variáveis em Python, usamos o caracter + ou ,\n",
    "nome = \"Ana Paula\"\n",
    "print(\"O nome dela é: \" + nome)\n"
   ]
  },
  {
   "cell_type": "code",
   "execution_count": 50,
   "metadata": {},
   "outputs": [
    {
     "name": "stdout",
     "output_type": "stream",
     "text": [
      "DezCinco\n"
     ]
    }
   ],
   "source": [
    "numero1 = \"Dez\"\n",
    "numero2 = \"Cinco\"\n",
    "print(numero1 + numero2)"
   ]
  },
  {
   "cell_type": "code",
   "execution_count": 55,
   "metadata": {},
   "outputs": [
    {
     "name": "stdout",
     "output_type": "stream",
     "text": [
      "O nome completo é: Thauane Alves\n"
     ]
    }
   ],
   "source": [
    "# Para juntar textos e variáveis em Python, usamos o caracter + ou ,\n",
    "\n",
    "\"\"\"\n",
    "Definindo duas vairáveis , nome e sobrenome, que comtém strings. Em seguida, usamos a concatenaão de strings para juntar essas varáveis\n",
    "e imprimi-las como um nome completo\n",
    "    Vamos analisar cada parte:\n",
    "    nome = \"Thauane\": Atribui a string \"Thauane\" à variável nome.\n",
    "    sobrenome = \"Alves\": Atribui a string \"Alves\" à variável sobrenome\n",
    "    print(\"O nome completo é: \" + nome + \" \" + sobrenome)\n",
    "        - \"Nome Completo\" - é uma string literal que será o começo da saída.\n",
    "        - nome é a variável que contem a string \"Thauane\", e ela é concatenada à string anterior.\n",
    "        - \" \" é uma string literal contendo um espaço, ela é usada para separar o nome e o sobrenome na saída.\n",
    "        - sobrenome é uma vairável que contem a string \"Alves\", e ela é concatenada ao restante da string.\n",
    "    A concatenação dessas partes resulta na string \"Nome completo: Thauane Alves\", que é então impressa\n",
    "    \n",
    "\"\"\"\n",
    "nome = \"Thauane\"\n",
    "sobrenome = \"Alves\"\n",
    "print(\"O nome completo é: \" + nome + \" \" + sobrenome)"
   ]
  },
  {
   "cell_type": "code",
   "execution_count": null,
   "metadata": {},
   "outputs": [
    {
     "name": "stdout",
     "output_type": "stream",
     "text": [
      "A soma é: 125.5\n"
     ]
    }
   ],
   "source": [
    "# Exercício 01 de Variáveis em Python\n",
    "\n",
    "#1. Declare uma variável chamada \"idade\" e atribua o valor 25 a ela.\n",
    "idade = 25\n",
    "#2. Declare uma variável chamada \"nome\" e atribua o valor \"João\" a ela.\n",
    "nome = \"João\"\n",
    "#3. Declare uma variável chamada \"saldo\" e atribua o valor \"100.50\" a ela.\n",
    "saldo = 100.50\n",
    "#4. Crie uma variável chamada \"soma\" e atribua a ela a soma das variaveis \"idade\" e \"saldo\".\n",
    "soma = idade + saldo\n",
    "#5. Imprima na tela o valor da variável \"soma\".\n",
    "print(\"A soma é:\", soma)"
   ]
  },
  {
   "cell_type": "code",
   "execution_count": 72,
   "metadata": {},
   "outputs": [
    {
     "name": "stdout",
     "output_type": "stream",
     "text": [
      "A média do aluno foi: 7.57\n",
      "A média do aluno foi: 7.57\n"
     ]
    }
   ],
   "source": [
    "# Exercício 02 de Variáveis em Python\n",
    "\n",
    "#1. Crie uma variável chamada \"nota1\" e atribua o valor 7.5 a ela.\n",
    "nota1 = 7.5\n",
    "#2. Crie uma variável chamada \"nota1\" e atribua o valor 8.3 a ela.\n",
    "nota2 = 8.3\n",
    "#3. Crie uma variável chamada \"nota1\" e atribua o valor 6.9 a ela.\n",
    "nota3 = 6.9\n",
    "#4. Calcule a média das três notas e atribua o resultado a uma variavel chamada \"média\".\n",
    "media = (nota1 + nota2 + nota3) / 3\n",
    "#5. Imprima na tela o valor da variável \"média\" formatado com duas casas decimais.\n",
    "print(\"A média do aluno foi: {:.2f}\".format(media))\n",
    "print(\"A média do aluno foi:\", format(media, \".2f\"))"
   ]
  },
  {
   "cell_type": "code",
   "execution_count": 1,
   "metadata": {},
   "outputs": [
    {
     "name": "stdout",
     "output_type": "stream",
     "text": [
      "Rodrigo\n",
      "32\n",
      "1992\n"
     ]
    }
   ],
   "source": [
    "# 1. Crie uma variável chamada nome e atribua o seu nome a ela como um valor.\n",
    "nome = \"Rodrigo\"\n",
    "\n",
    "# 2. Crie duas variáveis chamadas idade e ano_atual. \n",
    "idade = 32\n",
    "ano = 2024\n",
    "\n",
    "# 3. Calcule o ano em que você nasceu.\n",
    "ano_nasimento = ano - idade\n",
    "\n",
    "# 4. Incremente a variável idade em 1.\n",
    "idade2 = idade + 1\n",
    "\n",
    "# 5. Imprima as mensagens.\n",
    "print (nome)\n",
    "print (idade)\n",
    "print (ano_nasimento)\n",
    "print = idade2\n"
   ]
  },
  {
   "cell_type": "code",
   "execution_count": 2,
   "metadata": {},
   "outputs": [
    {
     "name": "stdout",
     "output_type": "stream",
     "text": [
      "O seu nome é: rodrigo\n"
     ]
    }
   ],
   "source": [
    "nome = input (\"Digite o seu nome: \")\n",
    "\n",
    "print(\"O seu nome é: \" + nome)"
   ]
  },
  {
   "cell_type": "code",
   "execution_count": null,
   "metadata": {},
   "outputs": [
    {
     "name": "stdout",
     "output_type": "stream",
     "text": [
      "\n",
      "Aluno:  rodrigo Média:  6.0\n"
     ]
    }
   ],
   "source": [
    "\"\"\"\n",
    "Solicita ao usuário que insira seu nome e duas notas, calcula a média dessas notas e, \n",
    "em seguida, imprime uma mensagem contendo o nome do aluno e a média calculada. \n",
    "\n",
    "Vamos analisar cada parte do código:\n",
    "\n",
    "    nome = input(\"Digite seu nome\"): Solicita ao usuário que digite seu nome e \n",
    "    armazena o valor inserido na variável nome.\n",
    "\n",
    "    nota1 = float(input(\"Digite a nota 1\")): Solicita ao usuário que digite a \n",
    "    primeira nota, converte o valor inserido para um número de ponto flutuante usando \n",
    "    float(), e armazena o resultado na variável nota1.\n",
    "\n",
    "    nota2 = float(input(\"Digite a nota 2\")): Semelhante à linha anterior, solicita ao \n",
    "    usuário que digite a segunda nota, converte o valor inserido para um número de ponto \n",
    "    flutuante e armazena o resultado na variável nota2.\n",
    "\n",
    "    media = (nota1 + nota2) / 2: Calcula a média das duas notas somando nota1 e nota2, e dividindo \n",
    "    o resultado por 2. A média é armazenada na variável media.\n",
    "\n",
    "    print(\"Aluno \", nome, \" Média: \", media): Imprime uma mensagem formatada contendo o nome do \n",
    "    aluno e a média calculada. A função print() pode receber vários argumentos separados \n",
    "    por vírgulas, e imprimirá cada um deles sequencialmente, separados por um espaço. \n",
    "    \n",
    "    O resultado final combina os valores das variáveis nome e media com as strings \n",
    "    literais para criar a saída completa.\n",
    "\n",
    "\"\"\"\n",
    "\n",
    "nome = input(\"Digite seu nome: \\n\")\n",
    "nota1 = float(input(\"Digite a nota1: \"))\n",
    "nota2 = float(input(\"Digite a nota2: \"))\n",
    "\n",
    "media = (nota1 + nota2) / 2\n",
    "\n",
    "print(\"\\nAluno: \", nome, \"Média: \", media)"
   ]
  },
  {
   "cell_type": "code",
   "execution_count": 2,
   "metadata": {},
   "outputs": [
    {
     "name": "stdout",
     "output_type": "stream",
     "text": [
      "5 * 1 =  5\n",
      "5 * 2 =  10\n",
      "5 * 3 =  15\n",
      "5 * 4 =  20\n",
      "5 * 5 =  25\n",
      "5 * 6 =  30\n",
      "5 * 7 =  35\n",
      "5 * 8 =  40\n",
      "5 * 9 =  45\n",
      "5 * 10 =  50\n"
     ]
    }
   ],
   "source": [
    "\"\"\"\n",
    "\n",
    "Exercício: Tabuada Personalizada\n",
    "\n",
    "Escreva um programa que solicite ao usuário um número inteiro e exiba a tabuada desse número, do 1 ao 10.\n",
    "\n",
    "Entrada:\n",
    "\n",
    "    Um número inteiro n, representando o número do qual você deseja ver a tabuada.\n",
    "\n",
    "Saída:\n",
    "\n",
    "    O programa deve imprimir dez linhas, mostrando o resultado da multiplicação do \n",
    "    número digitado com os números de 1 a 10, no formato n * i = resultado, onde n é o número \n",
    "    digitado pelo usuário e i varia de 1 a 10.\n",
    "\n",
    "Exemplo de Entrada:\n",
    "\n",
    "A tabuada de qual número deseja ver 5\n",
    "\n",
    "\n",
    "Exemplo de Saída:\n",
    "\n",
    "5  * 1 =  5\n",
    "5  * 2 =  10\n",
    "5  * 3 =  15\n",
    "5  * 4 =  20\n",
    "5  * 5 =  25\n",
    "5  * 6 =  30\n",
    "5  * 7 =  35\n",
    "5  * 8 =  40\n",
    "5  * 9 =  45\n",
    "5  * 10 =  50\n",
    "\n",
    "\n",
    "\"\"\"\n",
    "#Tabuada\n",
    "\n",
    "digitado = int(input(\"A tabuada de qual número deseja ver: \"))\n",
    "\n",
    "print(digitado, \"* 1 = \", digitado * 1)\n",
    "print(digitado, \"* 2 = \", digitado * 2)\n",
    "print(digitado, \"* 3 = \", digitado * 3)\n",
    "print(digitado, \"* 4 = \", digitado * 4)\n",
    "print(digitado, \"* 5 = \", digitado * 5)\n",
    "print(digitado, \"* 6 = \", digitado * 6)\n",
    "print(digitado, \"* 7 = \", digitado * 7)\n",
    "print(digitado, \"* 8 = \", digitado * 8)\n",
    "print(digitado, \"* 9 = \", digitado * 9)\n",
    "print(digitado, \"* 10 = \", digitado * 10)"
   ]
  },
  {
   "cell_type": "code",
   "execution_count": 3,
   "metadata": {},
   "outputs": [
    {
     "name": "stdout",
     "output_type": "stream",
     "text": [
      "Você tem:  69  anos de idade\n",
      "Você tem:  69  anos de idade\n"
     ]
    }
   ],
   "source": [
    "\"\"\"\n",
    "\n",
    "Exercício\n",
    "\n",
    "Crie um algoritmo que solicite o ano de nascimento do usuário e \n",
    "com base no ano corrente imprima a idade\n",
    "\n",
    "\"\"\"\n",
    "nascimento = int(input(\"Qual o seu ano de nascimento: \"))\n",
    "\n",
    "idade = 2024 - nascimento\n",
    "\n",
    "print(\"Você tem: \", idade, \" anos de idade\")\n",
    "print(\"Você tem: \", 2024 - nascimento, \" anos de idade\")\n",
    "\n"
   ]
  },
  {
   "cell_type": "code",
   "execution_count": 22,
   "metadata": {},
   "outputs": [
    {
     "name": "stdout",
     "output_type": "stream",
     "text": [
      "66\n",
      "0.5126675720336276\n",
      "11\n",
      "maçã\n",
      "[1, 3, 4, 2, 5]\n",
      "5.685487609221693\n"
     ]
    }
   ],
   "source": [
    "#Números randomcos - Números aleatórios\n",
    "import random\n",
    "\n",
    "print(random.randrange(1, 100))\n",
    "\n",
    "#Gerar um número de ponto flutuante aleatório entre 0 e 1\n",
    "print(random.random())\n",
    "\n",
    "#Gerar um número inteiro aleatório entre dois valores (inclusive):\n",
    "print(random.randint(10, 20)) #Gera um número aleatório entre 10 e 20, inclusive.\n",
    "\n",
    "#Escolher aleatoriamente um elemento de uma lista:\n",
    "frutas = [\"maçã\", \"banana\", \"cereja\"]\n",
    "print(random.choice(frutas)) #Escolhe uma fruta aleatoriamente da lista\n",
    "\n",
    "#Embaralhar aleatoriamente uma lista      \n",
    "numeros = [1, 2, 3, 4, 5]\n",
    "random.shuffle(numeros)\n",
    "print(numeros) #A lista 'numeros' agora está embaralhada.\n",
    "\n",
    "#Gerar um número de ponto flutuante aleatório em um intervalo específico\n",
    "print(random.uniform(5.5, 9.5)) #Gera um número de pontu flutuante entre 5.5 e 9.5"
   ]
  },
  {
   "cell_type": "code",
   "execution_count": null,
   "metadata": {},
   "outputs": [
    {
     "name": "stdout",
     "output_type": "stream",
     "text": [
      "P\n",
      "y\n",
      "t\n",
      "h\n",
      "o\n",
      "n\n",
      " Mun\n",
      "Olá, \n",
      "Mundo!\n"
     ]
    }
   ],
   "source": [
    "#Imprimindo a posição das letras\n",
    "posiçãoletra = \"Python\"\n",
    "\n",
    "print(posiçãoletra[0])\n",
    "print(posiçãoletra[1])\n",
    "print(posiçãoletra[2])\n",
    "print(posiçãoletra[3])\n",
    "print(posiçãoletra[4])\n",
    "print(posiçãoletra[5])\n",
    "\n",
    "\n",
    "\"\"\"\n",
    "\"slicing\" (fatiamento) em Python para extrair partes de uma string. \n",
    "\n",
    "\n",
    "    frase = \"Olá, mundo!\": Essa linha atribui a string \"Olá, mundo!\" à variável frase.\n",
    "\n",
    "    parte = frase[4:8]: Isso fatia a string da posição 4 até a posição 8 (exclusiva). Em \n",
    "    Python, a indexação começa em 0, então a posição 4 é o quinto caractere da string, que é um \n",
    "    espaço, e a posição 8 é o nono caractere, que é a letra 'd'. Então, essa fatia inclui os \n",
    "    caracteres nas posições 4, 5, 6 e 7, que são \" mun\". O valor de parte será a string \" mun\".\n",
    "\n",
    "    print(parte): Imprime o valor de parte, que é \" mun\".\n",
    "\n",
    "    primeiros = frase[:5]: Isso fatia a string da posição inicial (inclusa) até a \n",
    "    posição 5 (exclusiva). Como não há um valor antes dos dois pontos, ele assume o \n",
    "    início da string. Portanto, essa fatia inclui os caracteres nas posições 0, 1, 2, 3 e 4, que \n",
    "    são \"Olá,\". O valor de primeiros será a string \"Olá,\".\n",
    "\n",
    "    print(primeiros): Imprime o valor de primeiros, que é \"Olá,\".\n",
    "\n",
    "    ultimos = frase[-6:]: Isso fatia a string da posição -6 até o final da string. Em \n",
    "    Python, índices negativos contam a partir do final da string, então a posição -6 é o sexto \n",
    "    caractere a partir do final, que é a letra 'm'. Como não há valor depois dos dois pontos, ele assume \n",
    "    o final da string. Portanto, essa fatia inclui os caracteres 'mundo!'. O valor de ultimos será a string \"mundo!\".\n",
    "\n",
    "    print(ultimos): Imprime o valor de ultimos, que é \"mundo!\".\n",
    "\n",
    "\n",
    "\"\"\"\n",
    "# Slice\n",
    "frase = \"Olá, Mundo!\"\n",
    "\n",
    "# Obtendo uma parte da string usando slice\n",
    "parte = frase[4:8]\n",
    "print(parte) #Saída: mun\n",
    "\n",
    "# Obtendo os primeiros 5 caracteres da string\n",
    "primeiros = frase[:5]\n",
    "print(primeiros) #Saída: Olá,\n",
    "\n",
    "# Obtendo os últimos 6 caracteres da string\n",
    "ultimos = frase[-6:]\n",
    "print(ultimos) #Saída: Mundo!\n"
   ]
  },
  {
   "cell_type": "code",
   "execution_count": null,
   "metadata": {},
   "outputs": [
    {
     "name": "stdout",
     "output_type": "stream",
     "text": [
      "True\n"
     ]
    }
   ],
   "source": [
    "#Verifica se a plavra python está na frase\n",
    "\n",
    "frase = \"O módulo de python é muito legal!\"\n",
    "\n",
    "print(\"python\" in frase)\n",
    "\n",
    "\"\"\"\n",
    "O operador in é usado em Python para verificar a presença de um valor dentro \n",
    "de uma sequência (como uma string, lista, ou tupla). Neste caso, está sendo \n",
    "usado para verificar se uma determinada substring está contida em uma string maior.\n",
    "\"\"\"\n"
   ]
  },
  {
   "cell_type": "code",
   "execution_count": null,
   "metadata": {},
   "outputs": [
    {
     "name": "stdout",
     "output_type": "stream",
     "text": [
      "Sim, a palavra python está presente na frase\n"
     ]
    }
   ],
   "source": [
    "#verifica se a palavra python está na frase\n",
    "frase = \"O módulo de python é muito legal!\"\n",
    "\n",
    "#if - se\n",
    "if \"python\" in frase:\n",
    "    print(\"Sim, a palavra python está presente na frase\")"
   ]
  },
  {
   "cell_type": "code",
   "execution_count": 32,
   "metadata": {},
   "outputs": [
    {
     "name": "stdout",
     "output_type": "stream",
     "text": [
      "O módulo de python é muito legal!\n"
     ]
    }
   ],
   "source": [
    "#strip - Usamos para remover espaços em branco do inicio e do final da frase\n",
    "frase = \"              O módulo de python é muito legal!        \"\n",
    "\n",
    "print(frase.strip())"
   ]
  },
  {
   "cell_type": "code",
   "execution_count": null,
   "metadata": {},
   "outputs": [
    {
     "name": "stdout",
     "output_type": "stream",
     "text": [
      "['Olá,', 'como', 'vai', 'você?']\n"
     ]
    }
   ],
   "source": [
    "\"\"\"\n",
    "O uso do método split em uma string, que é uma maneira útil de dividir uma string em uma \n",
    "lista de substrings com base em um determinado separador.\n",
    "\n",
    "    frase = \"Olá, como vai você?\": Essa linha atribui a string \"Olá, como vai você?\" à variável frase.\n",
    "\n",
    "    palavras = frase.split(): O método split é chamado na string frase sem qualquer argumento, o que \n",
    "    significa que ele usará espaços em branco como o separador padrão. A string original é dividida onde \n",
    "    quer que haja um espaço, e as partes resultantes são retornadas como uma lista de strings. Neste caso, \n",
    "    a lista resultante será ['Olá,', 'como', 'vai', 'você?'].\n",
    "\n",
    "    print(palavras): Esta linha imprime a lista de palavras que foi criada, resultando na saída:\n",
    "\n",
    "     ['Olá,', 'como', 'vai', 'você?']\n",
    "\n",
    "O método split é frequentemente usado para dividir uma string em palavras ou em partes menores \n",
    "com base em um delimitador específico.\n",
    "\n",
    "\"\"\"\n",
    "#split, join e strip são métodos muito úteis da str\n",
    "frase = \"Olá, como vai você?\"\n",
    "palavras = frase.split() # Dividindo a frase em palavras usando o espaço em branco como separador\n",
    "\n",
    "print(palavras)\n",
    "# Saída: ['Olá,', 'como', 'vai', 'você?']"
   ]
  },
  {
   "cell_type": "code",
   "execution_count": null,
   "metadata": {},
   "outputs": [
    {
     "name": "stdout",
     "output_type": "stream",
     "text": [
      "Olá, como vai você?\n"
     ]
    }
   ],
   "source": [
    "\"\"\"\n",
    "método join, que é o oposto do método split que você viu anteriormente. Ele é usado para juntar \n",
    "uma lista de strings em uma única string, usando um delimitador específico. \n",
    "\n",
    "\n",
    "    palavras = ['Olá,', 'como', 'vai', 'você?']: Essa linha cria uma lista chamada palavras \n",
    "    contendo quatro strings.\n",
    "\n",
    "    frase = ' '.join(palavras): Esta linha usa o método join, chamando-o na \n",
    "    string ' ' (um espaço em branco). O método join pega a lista palavras como argumento e \n",
    "    concatena seus elementos em uma única string, colocando um espaço em branco entre cada \n",
    "    elemento. O resultado é a string \"Olá, como vai você?\", que é então atribuído à variável frase.\n",
    "\n",
    "    print(frase): Esta linha imprime o valor da variável frase, resultando na saída:\n",
    "\n",
    "    Olá, como vai você?\n",
    "\n",
    "Em resumo, o método join é uma maneira eficiente de combinar uma lista de strings em uma única \n",
    "string, usando um delimitador específico (neste caso, um espaço em branco).\n",
    "\"\"\"\n",
    "\n",
    "\n",
    "#Método join(): O método join() junta os elementos de uma lista em uma única string, utilizando um separador especificado entre cada elemento.\n",
    "\n",
    "palavras = [\"Olá,\", \"como\", \"vai\", \"você?\"]\n",
    "frase = \" \".join(palavras) # Juntando as palavras com um espaço em branco entre elas\n",
    "print(frase) # Saída: \"Olá, como vai você?\"\n",
    "\n"
   ]
  },
  {
   "cell_type": "code",
   "execution_count": 1,
   "metadata": {},
   "outputs": [
    {
     "name": "stdout",
     "output_type": "stream",
     "text": [
      "Olá!\n",
      "Olá!\n"
     ]
    },
    {
     "data": {
      "text/plain": [
       "'\\nNesta parte do código, a função strip() é chamada com o argumento \"*\", o que significa \\nque ela vai remover todas as ocorrências do caractere \"*\" no início e no final da string. A \\nstring \"********Olá!*********\" tem oito asteriscos antes e nove asteriscos depois do \\ntexto \"Olá!\". A chamada strip(\\'*\\') remove todos esses asteriscos, resultando na \\nstring \"Olá!\", que é armazenada na variável texto_strip e impressa.\\n\\nEm resumo, a função strip() sem argumentos remove espaços em branco do início e do \\nfinal de uma string, e com um argumento, remove todas as ocorrências desse caractere \\nespecífico do início e do final da string.\\n'"
      ]
     },
     "execution_count": 1,
     "metadata": {},
     "output_type": "execute_result"
    }
   ],
   "source": [
    "\n",
    "texto = \"     Olá!     \"\n",
    "texto_strip = texto.strip () # Removendo espaços em branco do início e do final\n",
    "print(texto_strip) # Saída: \"Olá!\"\n",
    "\n",
    "\"\"\"\n",
    "Nessa parte do código, a função strip() é chamada sem argumentos, e ela remove \n",
    "todos os espaços em branco no início e no final da string armazenada na variável texto. \n",
    "\n",
    "Espaços em branco incluem espaços, tabulações e caracteres de nova linha. No exemplo \n",
    "dado, a string \" Olá! \" tem três espaços antes e quatro espaços depois do texto \"Olá!\". Após a \n",
    "chamada strip(), a variável texto_strip contém a string \"Olá!\" sem espaços extras, e essa \n",
    "string é impressa.\n",
    "\"\"\"\n",
    "\n",
    "texto = \"*****Olá!*****\"\n",
    "texto_strip = texto.strip (\"*\") # Removendo os caracteres '*' do início e do final\n",
    "print(texto_strip) # Saída: \"Olá!\"\n",
    "\n",
    "\"\"\"\n",
    "Nesta parte do código, a função strip() é chamada com o argumento \"*\", o que significa \n",
    "que ela vai remover todas as ocorrências do caractere \"*\" no início e no final da string. A \n",
    "string \"********Olá!*********\" tem oito asteriscos antes e nove asteriscos depois do \n",
    "texto \"Olá!\". A chamada strip('*') remove todos esses asteriscos, resultando na \n",
    "string \"Olá!\", que é armazenada na variável texto_strip e impressa.\n",
    "\n",
    "Em resumo, a função strip() sem argumentos remove espaços em branco do início e do \n",
    "final de uma string, e com um argumento, remove todas as ocorrências desse caractere \n",
    "específico do início e do final da string.\n",
    "\"\"\""
   ]
  },
  {
   "cell_type": "code",
   "execution_count": null,
   "metadata": {},
   "outputs": [
    {
     "name": "stdout",
     "output_type": "stream",
     "text": [
      "Olá, meu nome é Alice. Tenho 25 anos e minha altura é de 1.65 metros.\n"
     ]
    }
   ],
   "source": [
    "#Utilizando Formated Strings\n",
    "nome = \"Alice\"\n",
    "idade = 25\n",
    "altura = 1.65\n",
    "\n",
    "# Criando uma mensagem formatada usando f-string\n",
    "mensagem = f\"Olá, meu nome é {nome}. Tenho {idade} anos e minha altura é de {altura:.2f} metros.\"\n",
    "\n",
    "print(mensagem)\n",
    "\n",
    "\"\"\"\n",
    "Explicação:\n",
    "\n",
    "    Definindo Variáveis: Três variáveis são definidas: nome, que é uma \n",
    "    string com o valor \"Alice\"; idade, que é um inteiro com o valor 25; e \n",
    "    altura, que é um número de ponto flutuante com o valor 1.65.\n",
    "\n",
    "    Criando a Mensagem Formatada (f-string): Uma f-string é uma forma de formatar \n",
    "    strings em Python 3.6 ou superior, onde você pode incorporar expressões entre \n",
    "    chaves {} que serão avaliadas em tempo de execução.\n",
    "    \n",
    "        {nome}: Substituído pelo valor da variável nome, que é \"Alice\".\n",
    "        {idade}: Substituído pelo valor da variável idade, que é 25.\n",
    "        {altura:.2f}: Substituído pelo valor da variável altura, que é 1.65, formatado \n",
    "        com duas casas decimais. O .2f dentro das chaves significa que o número deve ser formatado \n",
    "        como um número de ponto flutuante com duas casas decimais.\n",
    "\"\"\""
   ]
  },
  {
   "cell_type": "code",
   "execution_count": null,
   "metadata": {},
   "outputs": [
    {
     "name": "stdout",
     "output_type": "stream",
     "text": [
      "OLÁ, MUNDO!\n",
      "olá, mundo!\n",
      "Olá, mundo!\n",
      "1\n",
      "Olá, amigo!\n",
      "['Olá', ' mundo!']\n",
      "Olá,mundo!\n"
     ]
    }
   ],
   "source": [
    "# Métodos para Strings\n",
    "texto = \"Olá, mundo!\"\n",
    "\n",
    "# Método upper() - Converte a string para maiúsculas\n",
    "texto_upper = texto.upper()\n",
    "print (texto_upper) # Output: OLÁ, MUNDO!\n",
    "\n",
    "\n",
    "# Método lower() - Converte a string para minúsculas\n",
    "texto_lower = texto.lower()\n",
    "print (texto_lower) # Output: olá, mundo!\n",
    "\n",
    "# Método capitalize() - Capitaliza a primeira letra da string\n",
    "#a primeira letra \"o\" é convertida em maiúscula, resultando em \"Olá, mundo!\". As demais letras permanecem em minúsculas.\n",
    "texto_capitalize = texto.capitalize()\n",
    "print (texto_capitalize) # Output: Olá, mundo!\n",
    "\n",
    "# Método count() - Conta o número de ocorrências de um determinado caractere ou substring na string\n",
    "ocorrencias = texto.count(\"o\")\n",
    "print(ocorrencias) # Output: Olá, amigo!\n",
    "\n",
    "# Método replace() - Substitui todas as ocorrências de uma substring por outra\n",
    "texto_substituido = texto.replace (\"mundo\", \"amigo\")\n",
    "print(texto_substituido)\n",
    "\n",
    "# Método split() - Divide a string em uma lista de substrings com base em um caractere delimitador\n",
    "palavras = texto.split (\",\")\n",
    "print(palavras) # Output: ['Olá', ' mundo!']\n",
    "\n",
    "# Método join() - Junta uma lista de strings em uma única string, separadas por um caractere específico\n",
    "lista_palavras = ['Olá', 'mundo!']\n",
    "texto_junto = \",\".join(lista_palavras)\n",
    "print(texto_junto) # Output: Olá,mundo!"
   ]
  },
  {
   "cell_type": "code",
   "execution_count": 21,
   "metadata": {},
   "outputs": [
    {
     "name": "stdout",
     "output_type": "stream",
     "text": [
      "Maria Slilva\n",
      "Olá, me chamo Maria Slilva, tenho 30 anos.\n",
      "Olá, me chamo Maria Slilva, tenho 30 anos.\n"
     ]
    }
   ],
   "source": [
    "# Exercício de Manipulação de Strings em Python\n",
    "\n",
    "# 1. Crie uma variável chamada \"nome\" e atribua a ela o valor \"Maria\".\n",
    "nome = \"Maria\"\n",
    "\n",
    "# 2. Crie uma variável chamada \"sobrenome\" e atribua a ela o valor \"Silva\".\n",
    "sobrenome = \"Slilva\"\n",
    "\n",
    "# 3. Crie uma variável chamada \"idade\" e atribua a ela o valor 30.\n",
    "idade = \"30\"\n",
    "\n",
    "# 4. Concatene as variáveis \"nome\" e \"sobrenome\" em uma nova variável chamada \"nome_completo\".\n",
    "nome_completo = (nome + \" \" + sobrenome)\n",
    "\n",
    "# 5. Imprima na tela o valor da variável \"nome_completo\".\n",
    "print(nome_completo)\n",
    "\n",
    "# 6. Crie uma variável chamada \"mensagem\" que utilize a função format para criar uma frase \n",
    "#personalizada com as variáveis \"nome_completo\" e \"idade\".\n",
    "mensagem = f\"Olá, me chamo {nome_completo}, tenho {idade} anos.\"\n",
    "mensagem1 = \"Olá, me chamo {}, tenho {} anos.\".format(nome_completo, idade)\n",
    "\n",
    "# 7. Imprima na tela o valor da variável \"mensagem\".\n",
    "print(mensagem)\n",
    "print(mensagem1)"
   ]
  },
  {
   "cell_type": "code",
   "execution_count": 38,
   "metadata": {},
   "outputs": [
    {
     "name": "stdout",
     "output_type": "stream",
     "text": [
      "O tamanho da frase é:  57 caracteres.\n",
      "Python\n",
      "Primeira palavra da frase:  Python\n",
      "Frase em maiúscula>  PYTHON É UMA LINGUAGEM DE PROGRAMAÇÃO PODEROSA E VERSÁTIL\n",
      "Frase com substituição:  Python é uma linguagem de programação incrível e versátil\n"
     ]
    }
   ],
   "source": [
    "# Exercício de Manipulação de Strings em Python\n",
    "\n",
    "# 1. Crie uma variável chamada \"frase\" e atribua a ela a seguinte \n",
    "#frase: \"Python é uma linguagem de programação poderosa e versátil.\"\n",
    "frase = \"Python é uma linguagem de programação poderosa e versátil\"\n",
    "\n",
    "# 2. Imprima na tela o tamanho da frase, ou seja, a quantidade de \n",
    "#caracteres presentes nela.\n",
    "ocorrencias = len(frase)\n",
    "print(\"O tamanho da frase é: \", ocorrencias, \"caracteres.\")\n",
    "\n",
    "# 3. Crie uma variável chamada \"palavra\" e atribua a ela a primeira \n",
    "#palavra da frase.\n",
    "palavra = frase[0:6]\n",
    "print(palavra)\n",
    "\n",
    "palavra1 = frase.split()[0]\n",
    "print(\"Primeira palavra da frase: \", palavra1)\n",
    "\n",
    "# 4. Converta a variável \"frase\" para letras maiúsculas e atribua o \n",
    "#resultado a uma nova variável chamada \"frase_maiuscula\".\n",
    "frase_maiuscula = frase.upper()\n",
    "print(\"Frase em maiúscula> \", frase_maiuscula)\n",
    "\n",
    "\n",
    "# 5. Substitua a palavra \"poderosa\" por \"incrível\" na variável \n",
    "#\"frase\" e atribua o resultado a uma nova variável chamada \"frase_substituida\".\n",
    "frase_substituida = frase.replace(\"poderosa\", \"incrível\")\n",
    "print(\"Frase com substituição: \", frase_substituida)\n",
    "\n"
   ]
  },
  {
   "cell_type": "code",
   "execution_count": 50,
   "metadata": {},
   "outputs": [
    {
     "name": "stdout",
     "output_type": "stream",
     "text": [
      "MARIA DE FREITAS CARDOSO\n",
      "maria de freitas cardoso\n",
      "24\n",
      "Maria\n",
      "Primeira palavra da frase:  Maria\n",
      "Cardoso\n",
      "Ultima palavra da frase:  Cardoso\n"
     ]
    }
   ],
   "source": [
    "nome_completo = \"Maria de Freitas Cardoso\"\n",
    "\n",
    "# 1. Exiba o nome do usuário em letras maiúsculas\n",
    "nome_maiusculo = nome_completo.upper()\n",
    "print(nome_maiusculo)\n",
    "\n",
    "# 2. Exiba o nome do usuário em letras minúsculas\n",
    "nome_minusculo = nome_completo.lower()\n",
    "print(nome_minusculo)\n",
    "\n",
    "# 3. Conte e exiba quantas letras (sem considerar espaços) o nome do usuário tem\n",
    "nome_tudo_junto = nome_completo.strip (\" \")\n",
    "qtd_letras = len(nome_tudo_junto)\n",
    "print(qtd_letras)\n",
    "\n",
    "# 4. Exiba o primeiro nome do usuário\n",
    "primeira_palavra = nome_completo[0:5]\n",
    "print(primeira_palavra)\n",
    "\n",
    "primeira_palavra1 = nome_completo.split()[0]\n",
    "print(\"Primeira palavra da frase: \", primeira_palavra1)\n",
    "\n",
    "# 5. Exiba o último nome do usuário\n",
    "ultima_palavra = nome_completo[17:24]\n",
    "print(ultima_palavra)\n",
    "\n",
    "ultima_palavra1 = nome_completo.split()[3]\n",
    "print(\"Ultima palavra da frase: \", ultima_palavra1)"
   ]
  },
  {
   "cell_type": "code",
   "execution_count": 4,
   "metadata": {},
   "outputs": [
    {
     "name": "stdout",
     "output_type": "stream",
     "text": [
      "O número 1 é maior que o número 2\n"
     ]
    }
   ],
   "source": [
    "#Python função If ou seja função Se\n",
    "\n",
    "numero1 = 90\n",
    "numero2 = 12\n",
    "\n",
    "#Se a variável número1 é maior que a variável número 2\n",
    "\n",
    "if numero1 > numero2:\n",
    "    print(\"O número 1 é maior que o número 2\")"
   ]
  },
  {
   "cell_type": "code",
   "execution_count": 17,
   "metadata": {},
   "outputs": [
    {
     "name": "stdout",
     "output_type": "stream",
     "text": [
      "O número da variável numero1 é igual ao número da variável numero2\n"
     ]
    }
   ],
   "source": [
    "#Python função If... elif\n",
    "#if - Se\n",
    "#elif - Senão Se\n",
    "\n",
    "numero1 = 6\n",
    "numero2 = 6\n",
    "\n",
    "if numero1 > numero2:\n",
    "    print(\"O número da variável numero1 é maior que o número da varíável numero2\")\n",
    "elif numero1 == numero2:\n",
    "    print(\"O número da variável numero1 é igual ao número da variável numero2\")\n",
    "\n"
   ]
  },
  {
   "cell_type": "code",
   "execution_count": 25,
   "metadata": {},
   "outputs": [
    {
     "name": "stdout",
     "output_type": "stream",
     "text": [
      "Que pena. Tente novamente.\n"
     ]
    }
   ],
   "source": [
    "\"\"\"\n",
    "Exercício:\n",
    "\n",
    "Adivinhe o Número Secreto\n",
    "\n",
    "Você foi desafiado a adivinhar um número secreto entre 1 e 10!\n",
    "\n",
    "    Execute o programa.\n",
    "    Insira um número inteiro entre 1 e 10 quando solicitado.\n",
    "    O programa irá informar se você adivinhou corretamente o número secreto ou não.\n",
    "\n",
    "Seu objetivo é descobrir qual é o número secreto. Você pode executar o programa \n",
    "quantas vezes quiser até adivinhar corretamente.\n",
    "\n",
    "Nota: Para fins deste exercício, o número secreto é fixo e é igual a 7. Em uma \n",
    "versão mais avançada do exercício, você poderia modificar o programa para escolher um número \n",
    "secreto aleatório cada vez que é executado.\n",
    "\"\"\"\n",
    "\n",
    "# Define o número secreto que o usuário deve adivinhar\n",
    "ns = 7\n",
    "\n",
    "# Solicita ao usuário para inserir um número inteiro entre 1 e 10\n",
    "n1 = int(input(\"Digite um número entre 1 e 10:\" ))\n",
    "\n",
    "chute = int(input(\"Tente adivinhar o número secreto entre 1 e 10: \"))\n",
    "\n",
    "# Verifica se o número inserido pelo usuário é igual ao número secreto\n",
    "if ns == n1:\n",
    "    # Se o usuário adivinhar corretamente, imprime uma mensagem de sucesso\n",
    "    print(\"Parabéns. Você acertou!\")\n",
    "#else - Senão\n",
    "else:\n",
    "    # Se o usuário adivinhar errado, imprime uma mensagem de erro\n",
    "    print(\"Que pena. Tente novamente.\")\n",
    "\n"
   ]
  },
  {
   "cell_type": "code",
   "execution_count": null,
   "metadata": {},
   "outputs": [
    {
     "name": "stdout",
     "output_type": "stream",
     "text": [
      "Você não pode.\n"
     ]
    }
   ],
   "source": [
    "\"\"\"\n",
    "Exercício:\n",
    "\n",
    "Verifique a Elegibilidade para Votar\n",
    "\n",
    "Neste exercício, você vai executar um programa que determina \n",
    "se uma pessoa está ou não elegível para votar com base em sua idade.\n",
    "\n",
    "    Execute o programa.\n",
    "    Insira sua idade quando solicitado.\n",
    "    O programa irá informar se você é elegível para votar ou não.\n",
    "\n",
    "Note que a idade mínima para votar é de 18 anos.\n",
    "\"\"\"\n",
    "\n",
    "id_voto = 18\n",
    "ano_vigente = 2024\n",
    "\n",
    "dt_nascimento = int(input(\"Qual o ano do seu nascimento: \"))\n",
    "\n",
    "idade = ano_vigente - dt_nascimento\n",
    "\n",
    "if idade >= id_voto:\n",
    "    print(\"Você pode votar.\")\n",
    "else:\n",
    "    print (\"Você não pode.\")\n",
    "\n",
    "\"\"\"\n",
    "# Pergunta ao usuário sua idade\n",
    "idade = int(input(\"Por favor, digite sua idade: \"))\n",
    "\n",
    "#if - se\n",
    "# Verifica se a idade é maior ou igual a 18\n",
    "if idade >= 18:\n",
    "    \n",
    "    # Se a idade for maior ou igual a 18, imprime que o usuário está elegível para votar\n",
    "    print(\"Você é elegivel para votar.\")\n",
    "\n",
    "#else - senão\n",
    "else:\n",
    "    \n",
    "    # Se a idade for menor que 18, imprime que o usuário não está elegível para votar\n",
    "    print(\"Você não é elegivel para votar.\")\n",
    "\"\"\"\n",
    "\n"
   ]
  },
  {
   "cell_type": "code",
   "execution_count": null,
   "metadata": {},
   "outputs": [],
   "source": [
    "\"\"\"\n",
    "Abaixo está uma tabela que explica os diferentes operadores de comparação \n",
    "que você pode usar com uma instrução if em Python. Esses operadores permitem \n",
    "comparar valores, o que é frequentemente necessário em programação condicional.\n",
    "\n",
    "Operador    Descrição              Exemplo      Resultado\n",
    ">           Maior que              5 > 3        True\n",
    "<           Menor que              5 < 3        False\n",
    "==          Igual a                5 == 5       True\n",
    "!=          Diferente de           5 != 3       True\n",
    ">=          Maior que ou igual a   5 >= 5       True\n",
    "<=          Menor que ou igual a   5 <= 3       False\n",
    "\n",
    "Você pode usar esses operadores em uma instrução if para testar condições \n",
    "específicas. Aqui estão alguns exemplos de como você poderia usar esses \n",
    "operadores em condições:\n",
    "\n",
    "if x > y:\n",
    "    print(\"x é maior que y\")\n",
    "elif x < y:\n",
    "    print(\"x é menor que y\")\n",
    "elif x == y:\n",
    "    print(\"x é igual a y\")\n",
    "else:\n",
    "    print(\"x e y são incomparáveis\")\n",
    "\n",
    "Esses operadores formam a base para muitas construções lógicas e condicionais \n",
    "em Python e são ferramentas essenciais na caixa de ferramentas de qualquer programador.\n",
    "\"\"\""
   ]
  },
  {
   "cell_type": "code",
   "execution_count": 32,
   "metadata": {},
   "outputs": [
    {
     "name": "stdout",
     "output_type": "stream",
     "text": [
      "9 é maior que 6\n"
     ]
    }
   ],
   "source": [
    "#Função If... elif ... else\n",
    "#Se... Senão Se ... Senão\n",
    "\n",
    "n1 = 9\n",
    "n2 = 6\n",
    "\n",
    "if n1 > n2:\n",
    "    print(f\"{n1} é maior que {n2}\")\n",
    "elif n1 == n2:\n",
    "    print(f\"{n1} é igual a {n2}\")\n",
    "else:\n",
    "    print(f\"{n1} é menor que {n2}\")\n"
   ]
  },
  {
   "cell_type": "code",
   "execution_count": null,
   "metadata": {},
   "outputs": [
    {
     "name": "stdout",
     "output_type": "stream",
     "text": [
      "As duas condições são verdadeiras.\n"
     ]
    }
   ],
   "source": [
    "n1 = 50\n",
    "n2 = 21\n",
    "n3 = 200\n",
    "\n",
    "if n1 > n2 and n3 > n1:\n",
    "    print(\"As duas condições são verdadeiras.\")\n",
    "\n",
    "\"\"\"\n",
    "Explicação:\n",
    "\n",
    "    Definindo Variáveis: Três variáveis são definidas, numero1 com o valor \n",
    "    50, numero2 com o valor 21, e numero3 com o valor 200.\n",
    "\n",
    "    Condição Composta (if):\n",
    "        Primeira Condição: Verifica se numero1 é maior que numero2, ou seja, \n",
    "        se 50 é maior que 21. Essa condição é verdadeira.\n",
    "        \n",
    "        Segunda Condição: Verifica se numero3 é maior que numero1, ou \n",
    "        seja, se 200 é maior que 50. Essa condição também é verdadeira.\n",
    "        \n",
    "        Operador and: A cláusula if usa o operador lógico and, o que significa \n",
    "        que ambas as condições devem ser verdadeiras para que o bloco de código \n",
    "        sob o if seja executado.\n",
    "\n",
    "    Execução da Condição: Como ambas as condições são verdadeiras, o bloco de \n",
    "    código indentado abaixo da declaração if é executado. Isso resulta na impressão \n",
    "    da mensagem \"As duas condições são verdadeiras\" no console.\n",
    "\n",
    "O código usa o operador lógico and para verificar duas condições simultaneamente e \n",
    "imprimir uma mensagem se ambas forem verdadeiras. Neste exemplo, como ambas as condições \n",
    "são verdadeiras, a mensagem será impressa.\n",
    "\n",
    "\"\"\""
   ]
  },
  {
   "cell_type": "code",
   "execution_count": 38,
   "metadata": {},
   "outputs": [
    {
     "name": "stdout",
     "output_type": "stream",
     "text": [
      "Insuficiente\n"
     ]
    }
   ],
   "source": [
    "\"\"\"\n",
    "Exercício:\n",
    "\n",
    "Classificação de Notas\n",
    "\n",
    "Neste exercício, seu objetivo é executar um programa que \n",
    "classifica as notas de um estudante em diferentes categorias.\n",
    "\n",
    "    Execute o programa.\n",
    "    \n",
    "    Insira a nota do estudante quando solicitado (entre 0 e 100).\n",
    "    \n",
    "    O programa irá informar a classificação da nota de acordo com os seguintes critérios:\n",
    "        Excelente: 90-100\n",
    "        Bom: 70-89\n",
    "        Satisfatório: 50-69\n",
    "        Insuficiente: 0-49\n",
    "\"\"\"\n",
    "\n",
    "nota = int(input(\"Digite a nota do aluno: \"))\n",
    "\n",
    "if nota >= 90 and nota <= 100:\n",
    "    print(\"Excelente\")\n",
    "elif nota >= 70 and nota <= 89:\n",
    "    print(\"Bom\")\n",
    "elif nota >= 50 and nota <=69:\n",
    "    print(\"Satisfatório\")\n",
    "else:\n",
    "    print(\"Insuficiente\")\n",
    "\n",
    "\n"
   ]
  },
  {
   "cell_type": "code",
   "execution_count": null,
   "metadata": {},
   "outputs": [
    {
     "name": "stdout",
     "output_type": "stream",
     "text": [
      "O valor de sua compra foi: R$ 10000.0 O desconto concedido foi de 20% totalizando: R$ 2000.0 Total a pagar R$ 8000.0\n"
     ]
    }
   ],
   "source": [
    "\"\"\"\n",
    "Exercício:\n",
    "\n",
    "Calculadora de Descontos\n",
    "\n",
    "Você é um cliente em uma loja que está tendo uma promoção especial. Dependendo \n",
    "do valor da sua compra, você pode receber um desconto!\n",
    "\n",
    "    Execute o programa.\n",
    "    \n",
    "    Insira o valor da sua compra quando solicitado.\n",
    "    \n",
    "    O programa irá calcular e informar o valor do desconto aplicado e o valor final \n",
    "    com o desconto.\n",
    "\n",
    "Os descontos são aplicados da seguinte forma:\n",
    "\n",
    "    Compras acima de R$1000 recebem 20% de desconto.\n",
    "    Compras de R$500 a R$1000 recebem 10% de desconto.\n",
    "    Compras abaixo de R$500 não recebem desconto.\n",
    "    \n",
    "    \n",
    "\"\"\"\n",
    "# Solicita ao usuário o valor da compra\n",
    "compra = float(input(\"Digite o valor da compra: R$ \"))\n",
    "\n",
    "if compra > 1000.00:\n",
    "    vlr_desconto = compra * 0.2\n",
    "    vlr_final = compra - vlr_desconto\n",
    "    print(\"O valor de sua compra foi: R$\", compra, \"O desconto concedido foi de 20% totalizando: R$\",vlr_desconto, \"Total a pagar R$\", vlr_final)\n",
    "elif compra >= 500.00 and compra <= 1000.00:\n",
    "    vlr_desconto = compra * 0.1\n",
    "    vlr_final = compra - vlr_desconto\n",
    "    print(\"O valor de sua compra foi: R$\", compra, \"O desconto concedido foi de 10% totalizando: R$\",vlr_desconto, \"Total a pagar R$\", vlr_final)\n",
    "else:\n",
    "    print(\"O valor de sua compra foi inferior à R$ 500,00, por isso não foi possível conceder desconto.\")\n",
    "\n",
    "\n",
    "\"\"\"# Solicita ao usuário o valor da compra\n",
    "valor_compra = float(input(\"Por favor, digite o valor da sua compra: $\"))\n",
    "\n",
    "# Verifica em qual categoria de desconto a compra se encaixa\n",
    "if valor_compra > 1000:\n",
    "    \n",
    "    # Se a compra for maior que R$1000, aplica um desconto de 20%\n",
    "    desconto = 0.20 * valor_compra\n",
    "    \n",
    "    # Imprime uma mensagem informando o desconto de 20%\n",
    "    print(\"Você recebeu 20% de desconto!\")\n",
    "    \n",
    "elif valor_compra >= 500 and valor_compra <= 1000:\n",
    "    \n",
    "    # Se a compra for entre R$500 e R$1000, aplica um desconto de 10%\n",
    "    desconto = 0.10 * valor_compra\n",
    "    \n",
    "    # Imprime uma mensagem informando o desconto de 10%\n",
    "    print(\"Você recebeu 10% de desconto!\")\n",
    "    \n",
    "else:\n",
    "    \n",
    "    # Se a compra for menor que $500, não aplica desconto\n",
    "    desconto = 0\n",
    "    \n",
    "    # Imprime uma mensagem informando que não há desconto\n",
    "    print(\"Você não recebeu desconto.\")\n",
    "\n",
    "# Calcula o valor final após o desconto\n",
    "valor_final = valor_compra - desconto\n",
    "\n",
    "# Imprime o valor do desconto e o valor final da compra\n",
    "print(f\"Valor do desconto: R${desconto:.2f}\")\n",
    "print(f\"Valor final da compra: R${valor_final:.2f}\")\"\"\""
   ]
  },
  {
   "cell_type": "code",
   "execution_count": 8,
   "metadata": {},
   "outputs": [
    {
     "name": "stdout",
     "output_type": "stream",
     "text": [
      "O 19 é maior que uma ou mais condições\n"
     ]
    },
    {
     "data": {
      "text/plain": [
       "'\\nExplicação:\\n\\n    Definindo Variáveis: Três variáveis são definidas, numero1 com o valor 19, numero2 \\n    com o valor 150, e numero3 com o valor 18.\\n\\n    Condição Composta (if):\\n    \\n        Primeira Condição: Verifica se numero1 é maior que numero2, ou seja, se \\n        19 é maior que 150. Essa condição é falsa.\\n        \\n        Segunda Condição: Verifica se numero1 é maior que numero3, ou seja, se \\n        19 é maior que 18. Essa condição é verdadeira.\\n        \\n        Operador or: A cláusula if usa o operador lógico or, o que significa \\n        que pelo menos uma das condições deve ser verdadeira para que o bloco de \\n        código sob o if seja executado.\\n\\n    Execução da Condição: Como pelo menos uma das condições é verdadeira (a segunda), o \\n    bloco de código indentado abaixo da declaração if é executado. Isso resulta na impressão \\n    da mensagem \"Meu número 1 é maior que umas ou mais condições\" no console.\\n\\nO código usa o operador lógico or para verificar duas condições simultaneamente e imprimir uma \\nmensagem se pelo menos uma delas for verdadeira. Neste exemplo, como a segunda condição é \\nverdadeira, a mensagem será impressa.\\n'"
      ]
     },
     "execution_count": 8,
     "metadata": {},
     "output_type": "execute_result"
    }
   ],
   "source": [
    "#If ... Or\n",
    "#Se ... Ou\n",
    "\n",
    "n01 = 19\n",
    "n02 = 150\n",
    "n03 = 18\n",
    "\n",
    "if n01 > n02 or n01 > n03:\n",
    "    print(f\"O {n01} é maior que uma ou mais condições\")\n",
    "\n",
    "\"\"\"\n",
    "Explicação:\n",
    "\n",
    "    Definindo Variáveis: Três variáveis são definidas, numero1 com o valor 19, numero2 \n",
    "    com o valor 150, e numero3 com o valor 18.\n",
    "\n",
    "    Condição Composta (if):\n",
    "    \n",
    "        Primeira Condição: Verifica se numero1 é maior que numero2, ou seja, se \n",
    "        19 é maior que 150. Essa condição é falsa.\n",
    "        \n",
    "        Segunda Condição: Verifica se numero1 é maior que numero3, ou seja, se \n",
    "        19 é maior que 18. Essa condição é verdadeira.\n",
    "        \n",
    "        Operador or: A cláusula if usa o operador lógico or, o que significa \n",
    "        que pelo menos uma das condições deve ser verdadeira para que o bloco de \n",
    "        código sob o if seja executado.\n",
    "\n",
    "    Execução da Condição: Como pelo menos uma das condições é verdadeira (a segunda), o \n",
    "    bloco de código indentado abaixo da declaração if é executado. Isso resulta na impressão \n",
    "    da mensagem \"Meu número 1 é maior que umas ou mais condições\" no console.\n",
    "\n",
    "O código usa o operador lógico or para verificar duas condições simultaneamente e imprimir uma \n",
    "mensagem se pelo menos uma delas for verdadeira. Neste exemplo, como a segunda condição é \n",
    "verdadeira, a mensagem será impressa.\n",
    "\"\"\"\n"
   ]
  },
  {
   "cell_type": "code",
   "execution_count": null,
   "metadata": {},
   "outputs": [
    {
     "name": "stdout",
     "output_type": "stream",
     "text": [
      "Bem Vindo(a) ao evento!\n"
     ]
    }
   ],
   "source": [
    "\"\"\"\n",
    "Exercício\n",
    "\n",
    "Entrada para um Evento Exclusivo\n",
    "\n",
    "Você foi convidado para um evento exclusivo. Para entrar, você deve \n",
    "atender a pelo menos uma das seguintes condições:\n",
    "\n",
    "    Ter um convite VIP.\n",
    "    Estar na lista de convidados.\n",
    "    Ser um membro do clube.\n",
    "\n",
    "    Execute o programa.\n",
    "    \n",
    "    Responda às perguntas fornecidas com 'sim' ou 'não'.\n",
    "    O programa irá informar se você pode entrar no evento ou não.\n",
    "    \n",
    "    \n",
    "    Bem-vindo(a) ao evento!\n",
    "    Desculpe, você não pode entrar no evento.\n",
    "    \n",
    "\"\"\"\n",
    "\n",
    "\"\"\"\n",
    "* Resolvido com If, elif e else:\n",
    "convite_vip = str(input(\"Você tem um convite VIP? (Sim/Não): \"))\n",
    "nome_lista = str(input(\"Seu nome está na lista de convidados? (Sim/Não): \"))\n",
    "membro_clube = str(input (\"Você é membro do clube? (Sim/Não): \"))\n",
    "\n",
    "if convite_vip == \"Sim\":\n",
    "    print(\"Bem Vindo!\")\n",
    "elif nome_lista == \"Sim\":\n",
    "    print(\"Bem vindo!\")\n",
    "elif membro_clube == \"Sim\":\n",
    "    print(\"Bem vindo!\")\n",
    "else:\n",
    "    print(\"Desculpe, você não pode entrar no envento!\")\n",
    "\"\"\"    \n",
    "\n",
    "# Pergunta ao usuário se possui um convite VIP\n",
    "convite_vip = input(\"Você tem um convite VIP? (Sim/Não): \")\n",
    "# Pergunta ao usuário está na lista de convidados\n",
    "nome_lista = input(\"Seu nome está na lista de convidados? (Sim/Não): \")\n",
    "# Pergunta ao usuário se é um membro do clube\n",
    "membro_clube = input (\"Você é membro do clube? (Sim/Não): \")\n",
    "\n",
    "# Verifica se o usuário atende a pelo menos uma das condições\n",
    "if convite_vip == \"Sim\" or nome_lista == \"Sim\" or membro_clube == \"Sim\":\n",
    "    # Se atender a pelo menos uma das condições, permite a entrada\n",
    "    print(\"Bem Vindo(a) ao evento!\")\n",
    "\n",
    "else:\n",
    "    # Se não atender a nenhuma das condições, nega a entrada\n",
    "    print(\"Desculpe, você não pode entrar no envento!\")\n"
   ]
  },
  {
   "cell_type": "code",
   "execution_count": null,
   "metadata": {},
   "outputs": [
    {
     "name": "stdout",
     "output_type": "stream",
     "text": [
      "O número  21 é impar.\n"
     ]
    }
   ],
   "source": [
    "#Exercicio Par ou Impar\n",
    "#Crie um algoritmo que solicite a entrada de um número positivo e inteiro e imprima se o\n",
    "#número é PAR ou IMPAR\n",
    "\n",
    "n1 = int(input(\"Digite um número: \"))\n",
    "\n",
    "verificação = n1 % 2\n",
    "\n",
    "if verificação == 0:\n",
    "    print(\"O número \", n1, \"é par.\")\n",
    "else:\n",
    "    print(\"O número \", n1, \"é impar.\")\n",
    "\n",
    "    \"\"\"\n",
    "Explicação:\n",
    "\n",
    "    Entrada do Usuário: A função input(\"Digite um número \") solicita ao usuário \n",
    "    que digite um número. O texto dentro dos parênteses é a mensagem mostrada ao usuário.\n",
    "\n",
    "    Conversão para Inteiro: A função int() converte a entrada do usuário (que é uma \n",
    "    string) em um número inteiro. Esse valor é então armazenado na variável n1.\n",
    "\n",
    "    Verificando Par ou Ímpar: O operador % calcula o resto da divisão de n1 por 2. Se o \n",
    "    número for par, o resto dessa divisão será 0; se for ímpar, será 1. O resultado é \n",
    "    armazenado na variável verificaNumero.\n",
    "\n",
    "    Condição (if-else):\n",
    "    \n",
    "        Se Par: Se verificaNumero for igual a 0, isso significa que n1 é par, e \n",
    "        a mensagem \"O número \", n1, \" é PAR\" é impressa.\n",
    "        \n",
    "        Se Ímpar: Se verificaNumero não for igual a 0 (ou seja, for 1), isso \n",
    "        significa que n1 é ímpar, e a mensagem \"O número \", n1, \" é IMPAR\" é impressa.\n",
    "\n",
    "O código é um exemplo simples de como receber uma entrada do usuário e realizar \n",
    "uma operação aritmética para determinar uma propriedade específica do número (neste caso, \n",
    "se ele é par ou ímpar) e, em seguida, imprimir uma mensagem correspondente.\n",
    "\"\"\""
   ]
  },
  {
   "cell_type": "code",
   "execution_count": null,
   "metadata": {},
   "outputs": [
    {
     "name": "stdout",
     "output_type": "stream",
     "text": [
      "adulto\n"
     ]
    }
   ],
   "source": [
    "#Estrutura condicional ternária\n",
    "\n",
    "#age - idade\n",
    "\n",
    "age = 18\n",
    "status = \"adulto\" if age >= 18 else \"menor de idade\"\n",
    "print (status)\n",
    "\n",
    "\"\"\"\n",
    "Neste exemplo, a variável status recebe o valor \"adulto\" se \n",
    "age for maior ou igual a 18 e \"menor de idade\" caso contrário. Essa \n",
    "linha de código usa uma expressão condicional para fazer isso de forma \n",
    "concisa em uma única linha. Isso pode ser útil para tornar o código mais \n",
    "compacto, mas deve ser usado com cuidado para não comprometer a legibilidade.\n",
    "\"\"\""
   ]
  },
  {
   "cell_type": "code",
   "execution_count": null,
   "metadata": {},
   "outputs": [
    {
     "name": "stdout",
     "output_type": "stream",
     "text": [
      "impar\n"
     ]
    }
   ],
   "source": [
    "#Suponhamos que você queira determinar se um número é par ou impar:\n",
    "\n",
    "n1 = 143\n",
    "\n",
    "resultado = \"par\" if n1 % 2 == 0 else \"impar\"\n",
    "print(resultado)\n",
    "\n",
    "\"\"\"\n",
    "Neste exemplo, a variável resultado receberá o valor \"par\" se \n",
    "o número for divisível por 2 e \"ímpar\" caso contrário. Isso é \n",
    "feito usando uma expressão condicional em uma única linha, que \n",
    "avalia a condição numero % 2 == 0 e seleciona o valor correspondente.\n",
    "\"\"\""
   ]
  },
  {
   "cell_type": "code",
   "execution_count": 27,
   "metadata": {},
   "outputs": [
    {
     "name": "stdout",
     "output_type": "stream",
     "text": [
      "alta\n",
      "\n"
     ]
    }
   ],
   "source": [
    "#Suponha que você tenha pontuação e queira categoriza-la\n",
    "#como \"baixa\", \"média\" ou \"alta\"\n",
    "\n",
    "score = 85\n",
    "categoria = \"baixa\" if score < 50 else \"média\" if score < 80 else \"alta\" \n",
    "print(categoria)\n",
    "\n",
    "\"\"\"\n",
    "Exemplo de uma expressão condicional aninhada (ou ternária) em Python. \n",
    "\n",
    "Vamos dividi-la em partes para entender melhor:\n",
    "\n",
    "    \"baixa\" if score < 50: Se a pontuação (score) for menor que 50, a expressão inteira \n",
    "    será avaliada como \"baixa\".\n",
    "\n",
    "    \"média\" if score < 80: Se a primeira condição não for atendida (ou seja, a pontuação \n",
    "    é maior ou igual a 50) e a pontuação for menor que 80, a expressão será avaliada \n",
    "    como \"média\".\n",
    "\n",
    "    \"alta\": Se nenhuma das condições acima for atendida (ou seja, a pontuação é \n",
    "    maior ou igual a 80), a expressão será avaliada como \"alta\".\n",
    "\n",
    "Portanto, a expressão inteira é equivalente a uma série de verificações if ... elif ... else que \n",
    "categoriza a pontuação em \"baixa\", \"média\" ou \"alta\" com base nos critérios definidos.\n",
    "\n",
    "Aqui está uma representação equivalente usando uma estrutura condicional mais tradicional:\n",
    "\n",
    "if score < 50:\n",
    "    category = \"baixa\"\n",
    "elif score < 80:\n",
    "    category = \"média\"\n",
    "else:\n",
    "    category = \"alta\"\n",
    "\n",
    "A versão de uma linha é mais concisa, mas a versão expandida pode ser mais legível, especialmente \n",
    "se houver muitas condições aninhadas.\n",
    "\"\"\"\n",
    "print()"
   ]
  },
  {
   "cell_type": "code",
   "execution_count": 36,
   "metadata": {},
   "outputs": [
    {
     "name": "stdout",
     "output_type": "stream",
     "text": [
      "Idoso\n"
     ]
    }
   ],
   "source": [
    "\"\"\"Exercício: Verificar faixa etária\n",
    "Instruções:\n",
    "\n",
    "\n",
    "\n",
    "Dada uma idade como entrada, seu programa deve classificar a pessoa em uma das seguintes faixas etárias e exibir a classificação correspondente:\n",
    "\n",
    "\n",
    "\n",
    "Infantil: 0 a 12 anos\n",
    "\n",
    "Adolescente: 13 a 17 anos\n",
    "\n",
    "Adulto: 18 a 59 anos\n",
    "\n",
    "Idoso: 60 anos ou mais\n",
    "\n",
    "Utilize a estrutura condicional if, elif e else para realizar a classificação\"\"\"\n",
    "\n",
    "idade = 61\n",
    "\n",
    "if idade <= 12:\n",
    "    print(\"Infantil\")\n",
    "elif idade <= 17:\n",
    "    print(\"Adolescente\")\n",
    "elif idade <= 59:\n",
    "    print(\"Adulto\")\n",
    "else:\n",
    "    print(\"Idoso\")"
   ]
  },
  {
   "cell_type": "code",
   "execution_count": null,
   "metadata": {},
   "outputs": [
    {
     "name": "stdout",
     "output_type": "stream",
     "text": [
      "1\n",
      "2\n",
      "3\n",
      "4\n",
      "\n",
      "5\n",
      "4\n",
      "3\n",
      "2\n",
      "1\n",
      "\n",
      "10\n",
      "8\n",
      "6\n",
      "4\n",
      "2\n"
     ]
    }
   ],
   "source": [
    "#While Loops\n",
    "#While - Enquanto\n",
    "\n",
    "# Inicializa a variável 'numero' com o valor 1\n",
    "n01 = 1\n",
    "\n",
    "# Continua o loop enquanto 'numero' for menor que 5\n",
    "while n01 < 5:\n",
    "\n",
    "    # Imprime o valor atual de 'numero'\n",
    "    print(n01)\n",
    "\n",
    "    # Incrementa 'numero' em 1 para a próxima iteração\n",
    "    #numero = numero + 1\n",
    "    n01 += 1\n",
    "\n",
    "\"\"\"\n",
    "Explicação:\n",
    "\n",
    "    Definindo Variável: A variável numero é inicializada com o valor 1.\n",
    "\n",
    "    Loop While: A estrutura while cria um loop que continuará executando enquanto \n",
    "    a condição especificada for verdadeira. Neste caso, o loop continuará enquanto \n",
    "    numero for menor que 5.\n",
    "\n",
    "    Corpo do Loop: Dentro do loop, há duas instruções:\n",
    "    \n",
    "        Imprimir Número: A função print(numero) imprime o valor atual da variável numero.\n",
    "        \n",
    "        Incrementar Número: A linha numero += 1 aumenta o valor de numero em 1. Isso é \n",
    "        equivalente a numero = numero + 1. É um passo importante para garantir que a condição \n",
    "        do loop eventualmente se torne falsa, evitando assim um loop infinito.\n",
    "\n",
    "    Execução do Loop: O loop será executado enquanto numero for menor que 5. Veja \n",
    "    como ele se comporta em cada iteração:\n",
    "    \n",
    "        Iteração 1: numero é 1, impresso, e então incrementado para 2.\n",
    "        Iteração 2: numero é 2, impresso, e então incrementado para 3.\n",
    "        Iteração 3: numero é 3, impresso, e então incrementado para 4.\n",
    "        Iteração 4: numero é 4, impresso, e então incrementado para 5.\n",
    "        \n",
    "        O loop termina, pois numero agora é 5, o que não satisfaz a condição numero < 5.\n",
    "\n",
    "Saída:\n",
    "\n",
    "A saída do programa será:\n",
    "1\n",
    "2\n",
    "3\n",
    "4\n",
    "\n",
    "O código demonstra uma utilização básica do loop while para imprimir uma sequência \n",
    "de números, incrementando o valor em cada iteração até que uma condição de término seja atingida.\n",
    "\n",
    "\"\"\"\n",
    "print()\n",
    "\n",
    "#Contar de 5 a 1\n",
    "contador = 5\n",
    "\n",
    "# Enquanto a variável contador for maior ou igual a 1, o loop continuará\n",
    "while contador >=1:\n",
    "\n",
    "    # Imprime o valor atual da variável contador\n",
    "    print(contador)\n",
    "\n",
    "    # Decrementa o valor da variável contador em 1\n",
    "    #contador = contador - 1\n",
    "    contador -=1\n",
    "\n",
    "print()\n",
    "\n",
    "#Contar de 10 a 1 de 2 em 2\n",
    "\n",
    "# Inicializa a variável contador com o valor 10\n",
    "contador1 = 10\n",
    "\n",
    "# Enquanto a variável contador for maior ou igual a 1, o loop continuará\n",
    "while contador1 >=1:\n",
    "\n",
    "    # Imprime o valor atual da variável contador\n",
    "    print(contador1)\n",
    "\n",
    "    # Decrementa o valor da variável contador em 2\n",
    "    contador1 -=2\n"
   ]
  },
  {
   "cell_type": "code",
   "execution_count": null,
   "metadata": {},
   "outputs": [
    {
     "name": "stdout",
     "output_type": "stream",
     "text": [
      "Número 1\n",
      "Número 2\n",
      "Número 3\n",
      "Número 4\n",
      "Número 5\n",
      "Número 6\n",
      "Número 7\n",
      "Número 8\n",
      "Número 9\n",
      "Número 10\n",
      "Números impressos com sucesso!\n"
     ]
    }
   ],
   "source": [
    "# Inicializa a variável 'contador' com o valor 0\n",
    "contador = 0\n",
    "\n",
    "# Continua o loop enquanto 'contador' for menor que 10\n",
    "while contador < 10:\n",
    "\n",
    "    # Incrementa 'contador' em 1 a cada iteração do loop\n",
    "    contador +=1 \n",
    "\n",
    "    # Imprime a string \"Número \" seguida do valor atual de 'contador'\n",
    "    print(\"Número\", contador)\n",
    "\n",
    "else:\n",
    "\n",
    "    # Imprime esta mensagem após o término do loop\n",
    "    print(\"Números impressos com sucesso!\")\n",
    "\n",
    "\"\"\"\n",
    "Explicação:\n",
    "\n",
    "    Inicialização do Contador: A variável contador é inicializada com \n",
    "    o valor 0.\n",
    "\n",
    "    Loop While: A estrutura while cria um loop que continuará executando \n",
    "    enquanto a condição especificada for verdadeira. Neste caso, o loop \n",
    "    continuará enquanto contador for menor que 10.\n",
    "\n",
    "    Corpo do Loop: Dentro do loop, há duas instruções:\n",
    "    \n",
    "        Incrementar Contador: A linha contador += 1 aumenta o valor \n",
    "        de contador em 1.\n",
    "        \n",
    "        Imprimir Número: A função print(\"Número \", contador) imprime a \n",
    "        mensagem atual contendo o valor do contador.\n",
    "\n",
    "    Cláusula Else: A cláusula else após um loop while é executada uma vez \n",
    "    após o término do loop, mas apenas se o loop terminou normalmente (ou seja, não \n",
    "    foi interrompido por uma instrução break). Neste caso, ela imprimirá a \n",
    "    mensagem \"Números impressos com sucesso!\".\n",
    "\n",
    "    Execução do Loop:\n",
    "    \n",
    "        O loop será executado 10 vezes, incrementando o contador de 1 a 10 e \n",
    "        imprimindo cada valor.\n",
    "        \n",
    "        Após o loop, a cláusula else imprimirá a mensagem de sucesso.\n",
    "\n",
    "Saída:\n",
    "\n",
    "A saída do programa será:\n",
    "\n",
    "Número  1\n",
    "Número  2\n",
    "Número  3\n",
    "Número  4\n",
    "Número  5\n",
    "Número  6\n",
    "Número  7\n",
    "Número  8\n",
    "Número  9\n",
    "Número  10\n",
    "Números impressos com sucesso!\n",
    "\n",
    "O código ilustra o uso de um loop while com uma cláusula else para executar uma \n",
    "série de ações repetitivas e uma ação final após o término do loop.\n",
    "\"\"\"\n"
   ]
  },
  {
   "cell_type": "code",
   "execution_count": null,
   "metadata": {},
   "outputs": [
    {
     "name": "stdout",
     "output_type": "stream",
     "text": [
      "1\n",
      "2\n",
      "3\n",
      "4\n",
      "5\n"
     ]
    }
   ],
   "source": [
    "#While Loops\n",
    "#While = Enquanto\n",
    "\n",
    "# Inicializa a variável 'numero' com o valor 1\n",
    "numero = 1\n",
    "\n",
    "# Continua o loop enquanto 'numero' for menor que 100\n",
    "while numero < 100:\n",
    "\n",
    "    # Imprime o valor atual de 'numero'\n",
    "    print (numero)\n",
    "\n",
    "    # Verifica se 'numero' é igual a 5\n",
    "    if numero == 5:\n",
    "\n",
    "        # Se 'numero' for 5, sai do loop imediatamente\n",
    "        break\n",
    "    # Incrementa 'numero' em 1 para a próxima iteração, se a condição acima não for verdadeira\n",
    "    numero +=1\n",
    "\n",
    "\"\"\"\n",
    "Esse código é um exemplo de um loop while que utiliza a instrução break \n",
    "para sair do loop quando uma condição específica é atendida. \n",
    "\n",
    "Explicação:\n",
    "\n",
    "    Definindo Variável: A variável numero é inicializada com o valor 1.\n",
    "\n",
    "    Loop While: A estrutura while cria um loop que continuará executando \n",
    "    enquanto a condição especificada for verdadeira. Neste caso, o loop \n",
    "    continuará enquanto numero for menor que 100.\n",
    "\n",
    "    Corpo do Loop: Dentro do loop, há três instruções:\n",
    "    \n",
    "        Imprimir Número: A função print(numero) imprime o valor atual \n",
    "        da variável numero.\n",
    "        \n",
    "        Condição de Parada (if): A instrução if verifica se numero é \n",
    "        igual a 5. Se essa condição for verdadeira, a instrução break é \n",
    "        executada, interrompendo o loop imediatamente.\n",
    "        \n",
    "        Incrementar Número: A linha numero += 1 aumenta o valor de numero em 1.\n",
    "\n",
    "    Execução do Loop: Veja como ele se comporta em cada iteração:\n",
    "    \n",
    "        Iterações 1 a 4: numero varia de 1 a 4, é impresso, e então incrementado.\n",
    "        \n",
    "        Iteração 5: numero é 5, é impresso, e então a condição numero == 5 é \n",
    "        verdadeira, o que aciona a instrução break.\n",
    "        \n",
    "        O loop é interrompido, e o programa termina sua execução.\n",
    "\n",
    "Saída:\n",
    "\n",
    "A saída do programa será:\n",
    "\n",
    "1\n",
    "2\n",
    "3\n",
    "4\n",
    "5\n",
    "\n",
    "O código demonstra como usar um loop while juntamente com uma instrução \n",
    "condicional if e a palavra-chave break para controlar a execução do loop. Neste \n",
    "exemplo, o loop é interrompido quando a variável numero atinge o valor 5.\n",
    "\"\"\"\n",
    "print()\n"
   ]
  },
  {
   "cell_type": "code",
   "execution_count": null,
   "metadata": {},
   "outputs": [
    {
     "name": "stdout",
     "output_type": "stream",
     "text": [
      "Linha:  0 - Coluna:  0\n",
      "Linha:  0 - Coluna:  1\n",
      "Linha:  0 - Coluna:  2\n",
      "Linha:  1 - Coluna:  0\n",
      "Linha:  1 - Coluna:  1\n",
      "Linha:  1 - Coluna:  2\n",
      "Linha:  2 - Coluna:  0\n",
      "Linha:  2 - Coluna:  1\n",
      "Linha:  2 - Coluna:  2\n"
     ]
    }
   ],
   "source": [
    "#While Loops\n",
    "#While = Enquanto\n",
    "\n",
    "# Inicializa a variável 'linha' com o valor 0\n",
    "linha = 0\n",
    "\n",
    "# Continua o loop externo enquanto 'linha' for menor que 3\n",
    "while linha < 3:\n",
    "\n",
    "    # Inicializa a variável 'coluna' com o valor 0 para cada nova iteração do loop externo\n",
    "    coluna = 0\n",
    "\n",
    "    # Continua o loop interno enquanto 'coluna' for menor que 3\n",
    "    while coluna < 3:\n",
    "\n",
    "        # Imprime os valores atuais de 'linha' e 'coluna'\n",
    "        print (\"Linha: \", linha, \"- Coluna: \", coluna)\n",
    "\n",
    "        # Incrementa 'coluna' em 1 para a próxima iteração do loop interno\n",
    "        coluna += 1\n",
    "\n",
    "    # Incrementa 'linha' em 1 para a próxima iteração do loop externo    \n",
    "    linha += 1\n",
    "\n",
    "\"\"\"\n",
    "Explicação:\n",
    "\n",
    "    Definindo Variável de Linha: A variável linha é inicializada com o valor 0.\n",
    "\n",
    "    Loop Externo (Linhas): A estrutura while externa cria um loop que \n",
    "    continuará executando enquanto a variável linha for menor que 3. Isso significa \n",
    "    que o loop externo será executado três vezes.\n",
    "\n",
    "    Definindo Variável de Coluna: Dentro do loop externo, a variável \n",
    "    coluna é inicializada com o valor 0 em cada iteração.\n",
    "\n",
    "    Loop Interno (Colunas): A estrutura while interna cria um loop que \n",
    "    continuará executando enquanto a variável coluna for menor que 3. Isso \n",
    "    significa que o loop interno será executado três vezes para cada iteração do loop externo.\n",
    "\n",
    "    Corpo do Loop Interno: Dentro do loop interno:\n",
    "    \n",
    "        Imprimir Linha e Coluna: A função print imprime a linha e a coluna atuais.\n",
    "        Incrementar Coluna: A linha coluna += 1 aumenta o valor de coluna em 1.\n",
    "\n",
    "    Incrementar Linha: Dentro do loop externo, mas fora do loop interno, a \n",
    "    linha linha += 1 aumenta o valor de linha em 1.\n",
    "\n",
    "    Execução dos Loops: O loop interno será executado três vezes para cada \n",
    "    iteração do loop externo, resultando em um total de nove iterações.\n",
    "\n",
    "Saída:\n",
    "\n",
    "A saída do programa será:\n",
    "\n",
    "Linha:  0  - Coluna:  0\n",
    "Linha:  0  - Coluna:  1\n",
    "Linha:  0  - Coluna:  2\n",
    "Linha:  1  - Coluna:  0\n",
    "Linha:  1  - Coluna:  1\n",
    "Linha:  1  - Coluna:  2\n",
    "Linha:  2  - Coluna:  0\n",
    "Linha:  2  - Coluna:  1\n",
    "Linha:  2  - Coluna:  2\n",
    "\n",
    "O código demonstra como usar loops while aninhados para iterar através \n",
    "de uma estrutura bidimensional (como uma matriz), imprimindo os índices de linha \n",
    "e coluna em cada iteração. Isso é comumente usado em programação para trabalhar \n",
    "com estruturas de dados bidimensionais.\n",
    "\"\"\"\n",
    "print()"
   ]
  },
  {
   "cell_type": "code",
   "execution_count": null,
   "metadata": {},
   "outputs": [
    {
     "name": "stdout",
     "output_type": "stream",
     "text": [
      "1\n",
      "2\n",
      "3\n",
      "4\n",
      "5\n",
      "6\n",
      "7\n",
      "8\n",
      "9\n",
      "10\n"
     ]
    }
   ],
   "source": [
    "#Vai do 1 até o número que o usuário digitar\n",
    "#imprime todos os números inteiros a partir de um valor inicial até um valor final, fornecido pelo usuário. \n",
    "\n",
    "# Inicializa a variável 'numeroInicial' com o valor 1\n",
    "numero_inicial = 1\n",
    "\n",
    "# Pede ao usuário para inserir um número e converte para inteiro\n",
    "numero_final = int(input(\"Digite um número mairor que 1: \"))\n",
    "\n",
    "# Continua o loop enquanto 'numeroInicial' for menor ou igual a 'numeroFinal'\n",
    "while numero_inicial <= numero_final:\n",
    "\n",
    "    # Imprime o valor atual de 'numeroInicial'\n",
    "    print(numero_inicial)\n",
    "\n",
    "    # Incrementa 'numeroInicial' em 1 para a próxima iteração\n",
    "    numero_inicial += 1\n",
    "\n",
    "\"\"\"\n",
    "Explicação:\n",
    "\n",
    "    Definindo Variável Inicial: A variável numeroInicial é inicializada com o valor 1.\n",
    "\n",
    "    Entrada do Usuário: A função input solicita ao usuário que digite um número \n",
    "    maior que 1. O texto entre parênteses é a mensagem mostrada ao usuário. A função int \n",
    "    converte a entrada do usuário (que é uma string) em um número inteiro e armazena \n",
    "    na variável numeroFinal.\n",
    "\n",
    "    Loop While: A estrutura while cria um loop que continuará executando enquanto a \n",
    "    condição especificada for verdadeira. Neste caso, o loop continuará enquanto \n",
    "    numeroInicial for menor ou igual a numeroFinal.\n",
    "\n",
    "    Corpo do Loop: Dentro do loop, há duas instruções:\n",
    "    \n",
    "        Imprimir Número Atual: A função print(numeroInicial) imprime o \n",
    "        valor atual da variável numeroInicial.\n",
    "        \n",
    "        Incrementar Número Inicial: A linha numeroInicial += 1 aumenta o valor de \n",
    "        numeroInicial em 1. Isso é um passo importante para garantir que a condição do \n",
    "        loop eventualmente se torne falsa, evitando assim um loop infinito.\n",
    "\n",
    "    Execução do Loop: O loop será executado para cada valor de numeroInicial, começando \n",
    "    em 1 e indo até numeroFinal, imprimindo cada valor.\n",
    "\n",
    "Exemplo de Saída:\n",
    "\n",
    "Suponha que o usuário insira o valor 5. A saída do programa será:\n",
    "\n",
    "1\n",
    "2\n",
    "3\n",
    "4\n",
    "5\n",
    "\n",
    "O código ilustra como usar um loop while para iterar através de uma sequência \n",
    "de números, começando de um valor fixo e terminando em um valor fornecido pelo usuário, \n",
    "imprimindo cada número na sequência.\n",
    "\"\"\"\n",
    "print()"
   ]
  },
  {
   "cell_type": "code",
   "execution_count": null,
   "metadata": {},
   "outputs": [
    {
     "name": "stdout",
     "output_type": "stream",
     "text": [
      "Números pares entre 1 e 30 :\n",
      "2 4 6 8 10 12 14 16 18 20 22 24 26 28 30 "
     ]
    }
   ],
   "source": [
    "#Numeros pares entre 1 e o número que o usuário digitar\n",
    "#Solicita ao usuário um número inteiro maior que 1 e, em seguida, \n",
    "#imprime todos os números pares entre 1 e o número fornecido (inclusive).\n",
    "\n",
    "# Inicializa a variável 'numero' com o valor 1\n",
    "numero = 1\n",
    "\n",
    "# Pede ao usuário para inserir um número inteiro e converte para inteiro\n",
    "numero_max = int(input(\"Digite um numero inteiro maior que 1: \"))\n",
    "\n",
    "# Imprime uma mensagem indicando o que será mostrado\n",
    "print(\"Números pares entre 1 e\", numero_max,\":\")\n",
    "\n",
    "# Continua o loop enquanto 'numero' for menor ou igual a 'max'\n",
    "while numero <= numero_max:\n",
    "\n",
    "    # Verifica se 'numero' é par (divisível por 2)\n",
    "    if numero % 2 == 0:\n",
    "\n",
    "        # Imprime o valor atual de 'numero' se for par, sem adicionar uma nova linha\n",
    "        print(numero, end = \" \")\n",
    "\n",
    "    # Incrementa 'numero' em 1 para a próxima iteração    \n",
    "    numero += 1\n",
    "\n",
    "\n",
    "\"\"\"\n",
    "Explicação:\n",
    "\n",
    "    Definindo Variável Inicial: A variável numero é inicializada com o valor 1.\n",
    "\n",
    "    Entrada do Usuário: A função input solicita ao usuário que digite um \n",
    "    número inteiro maior que 1. A entrada do usuário é convertida em um número \n",
    "    inteiro e armazenada na variável max.\n",
    "\n",
    "    Imprimir Mensagem Inicial: A função print é usada para imprimir uma \n",
    "    mensagem informando ao usuário que os números pares entre 1 e max serão listados.\n",
    "\n",
    "    Loop While: A estrutura while cria um loop que continuará executando enquanto \n",
    "    numero for menor ou igual a max.\n",
    "\n",
    "    Corpo do Loop: Dentro do loop:\n",
    "    \n",
    "        Verificar Se o Número é Par: A instrução if numero % 2 == 0 verifica \n",
    "        se o valor atual de numero é par. Se for, o número é impresso.\n",
    "        \n",
    "        Imprimir Número Par: Se a condição acima for verdadeira, a função \n",
    "        print(numero, end=\" \") imprime o valor atual de numero, seguido por um \n",
    "        espaço (em vez de uma nova linha, graças ao argumento end=\" \").\n",
    "        \n",
    "        Incrementar Número: A linha numero += 1 aumenta o valor de numero em 1.\n",
    "\n",
    "    Execução do Loop: O loop será executado para cada valor de numero, começando \n",
    "    em 1 e indo até max, imprimindo cada número par na sequência.\n",
    "\n",
    "Exemplo de Saída:\n",
    "\n",
    "Suponha que o usuário insira o valor 10. A saída do programa será:\n",
    "\n",
    "Numeros pares entre 1 e 10 :\n",
    "2 4 6 8 10 \n",
    "\n",
    "O código ilustra como usar um loop while juntamente com uma instrução \n",
    "condicional if para iterar através de uma sequência de números, imprimindo apenas \n",
    "aqueles que atendem a uma condição específica (neste caso, sendo números pares).\n",
    "\"\"\"\n",
    "print()"
   ]
  },
  {
   "cell_type": "code",
   "execution_count": null,
   "metadata": {},
   "outputs": [
    {
     "name": "stdout",
     "output_type": "stream",
     "text": [
      "Você está logado!\n"
     ]
    }
   ],
   "source": [
    "\"\"\"\n",
    "\n",
    "Exercício:\n",
    "\n",
    "Crie um algoritmo que solicite ao usuário uma senha, e só sai do\n",
    "looping do While quando for digitado a senha corretamente\n",
    "\n",
    "\"\"\"\n",
    "\n",
    "# Define a senha correta do sistema como \"123\"\n",
    "\n",
    "senha = 123\n",
    "\n",
    "login = int(input (\"Digite a senha: \"))\n",
    "\n",
    "while login != senha:\n",
    "    login = int(input (\"Digite a senha: \"))\n",
    "else:\n",
    "    print(\"Você está logado!\")\n",
    "\n",
    "\n",
    "\"\"\"# Define a senha correta do sistema como \"123\"\n",
    "senhaSistema = \"123\"\n",
    "\n",
    "# Solicita ao usuário que digite a senha\n",
    "senhaDigitada = input(\"Digite sua senha: \")\n",
    "\n",
    "# Continua o loop enquanto a senha digitada pelo usuário for diferente da senha correta do sistema\n",
    "while (senhaSistema != senhaDigitada):\n",
    "    \n",
    "    # Imprime uma mensagem indicando que a senha está incorreta\n",
    "    print(\"Senha incorreta, tente novamente!\")\n",
    "    \n",
    "    # Solicita ao usuário que digite a senha novamente\n",
    "    senhaDigitada = input(\"\\nDigite sua senha: \")\n",
    "\n",
    "# Imprime uma mensagem de sucesso quando o usuário digita a senha correta e o loop termina\n",
    "print(\"\\nMuito bem! Você digitou a senha correta!\")\n",
    "\"\"\"\n",
    "\n",
    "\n",
    "\n",
    "\"\"\"\n",
    "Explicação:\n",
    "\n",
    "    Definindo a Senha do Sistema: A variável senhaSistema é inicializada com a \n",
    "    string \"123\", que é a senha correta que o usuário deve inserir.\n",
    "\n",
    "    Entrada Inicial do Usuário: A função input solicita ao usuário que digite \n",
    "    sua senha, e a entrada é armazenada na variável senhaDigitada.\n",
    "\n",
    "    Loop While: A estrutura while cria um loop que continuará executando enquanto \n",
    "    senhaSistema for diferente de senhaDigitada. Ou seja, o loop continuará enquanto a \n",
    "    senha digitada pelo usuário for incorreta.\n",
    "\n",
    "    Corpo do Loop: Dentro do loop:\n",
    "    \n",
    "        Imprimir Mensagem de Erro: A função print imprime uma mensagem informando \n",
    "        ao usuário que a senha está incorreta.\n",
    "        \n",
    "        Pedir Senha Novamente: A função input solicita ao usuário que digite sua \n",
    "        senha novamente, e a entrada é novamente armazenada em senhaDigitada.\n",
    "\n",
    "    Saída do Loop: O loop continuará executando até que o usuário digite a senha \n",
    "    correta (\"123\" neste caso). Uma vez que a senha correta seja inserida, o loop terminará.\n",
    "\n",
    "    Imprimir Mensagem de Sucesso: Após o término do loop, a função print imprime uma \n",
    "    mensagem de sucesso informando ao usuário que ele digitou a senha correta.\n",
    "\n",
    "Exemplo de Saída:\n",
    "\n",
    "Suponha que o usuário insira a senha incorreta duas vezes e depois digite a senha \n",
    "correta. A interação com o programa seria assim:\n",
    "\n",
    "Digite sua senha: 999\n",
    "Senha incorreta, tente novamente!\n",
    "Digite sua senha: 555\n",
    "Senha incorreta, tente novamente!\n",
    "Digite sua senha: 123\n",
    "Muito bem! Você digitou a senha correta!\n",
    "\n",
    "O código ilustra um padrão comum em programação para validar uma entrada \n",
    "do usuário através de um loop, continuando a pedir a entrada até que ela \n",
    "atenda a uma condição específica.\n",
    "\n",
    "\"\"\"\n",
    "print()"
   ]
  },
  {
   "cell_type": "code",
   "execution_count": 1,
   "metadata": {},
   "outputs": [],
   "source": [
    "# Inicia um loop infinito, que continuará até que seja explicitamente interrompido\n",
    "while True:\n",
    "    # Pede ao usuário uma entrada, com a opção de digitar 'sair' para encerrar o loop\n",
    "    user_input = input(\"Digite 'sair' para encerrar: \")\n",
    "    # Verifica se a entrada do usuário é igual a 'sair'\n",
    "    if user_input == 'sair':\n",
    "        # Se a entrada for 'sair', o comando break interrompe o loop, encerrando o programa\n",
    "        break"
   ]
  },
  {
   "cell_type": "code",
   "execution_count": null,
   "metadata": {},
   "outputs": [
    {
     "name": "stdout",
     "output_type": "stream",
     "text": [
      "O número secreto é menor.\n",
      "O número secreto é menor.\n"
     ]
    },
    {
     "ename": "ValueError",
     "evalue": "invalid literal for int() with base 10: ''",
     "output_type": "error",
     "traceback": [
      "\u001b[0;31m---------------------------------------------------------------------------\u001b[0m",
      "\u001b[0;31mValueError\u001b[0m                                Traceback (most recent call last)",
      "Cell \u001b[0;32mIn[11], line 10\u001b[0m\n\u001b[1;32m      7\u001b[0m \u001b[38;5;66;03m#print (n_secreto)\u001b[39;00m\n\u001b[1;32m      9\u001b[0m \u001b[38;5;28;01mwhile\u001b[39;00m \u001b[38;5;28;01mTrue\u001b[39;00m:\n\u001b[0;32m---> 10\u001b[0m     palpite \u001b[38;5;241m=\u001b[39m \u001b[38;5;28;43mint\u001b[39;49m\u001b[43m(\u001b[49m\u001b[38;5;28;43minput\u001b[39;49m\u001b[43m(\u001b[49m\u001b[38;5;124;43m\"\u001b[39;49m\u001b[38;5;124;43mDigite seu palpite: \u001b[39;49m\u001b[38;5;124;43m\"\u001b[39;49m\u001b[43m)\u001b[49m\u001b[43m)\u001b[49m\n\u001b[1;32m     11\u001b[0m     tentativas \u001b[38;5;241m+\u001b[39m\u001b[38;5;241m=\u001b[39m \u001b[38;5;241m1\u001b[39m\n\u001b[1;32m     13\u001b[0m     \u001b[38;5;28;01mif\u001b[39;00m palpite \u001b[38;5;241m<\u001b[39m n_secreto:\n",
      "\u001b[0;31mValueError\u001b[0m: invalid literal for int() with base 10: ''"
     ]
    }
   ],
   "source": [
    "import random\n",
    "\n",
    "n_secreto = random.randint (1,100)\n",
    "\n",
    "tentativas = 0\n",
    "\n",
    "#print (n_secreto)\n",
    "\n",
    "while True:\n",
    "    palpite = int(input(\"Digite seu palpite: \"))\n",
    "    tentativas += 1\n",
    "\n",
    "    if palpite < n_secreto:\n",
    "        print(\"O número secreto é maior.\")\n",
    "    elif palpite > n_secreto:\n",
    "        print(\"O número secreto é menor.\")\n",
    "    else:\n",
    "        print (\"Você adivinhou o número secreto\", n_secreto,  \"em:\", tentativas, \"tentativas!\")\n",
    "        break\n",
    "\n",
    "\"\"\"import random  # Importa o módulo random para gerar números aleatórios\n",
    "\n",
    "numero_secreto = random.randint(1, 100)  # Gera um número aleatório entre 1 e 100 e o armazena em numero_secreto\n",
    "tentativas = 0  # Inicializa o contador de tentativas\n",
    "\n",
    "#print(numero_secreto)\n",
    "\n",
    "print(\"Adivinhe o número secreto entre 1 e 100.\")  # Imprime as instruções para o usuário\n",
    "\n",
    "while True:  # Inicia um loop infinito que continuará até que o número correto seja adivinhado\n",
    "    \n",
    "    palpite = int(input(\"Digite o seu palpite: \"))  # Pede ao usuário para inserir um palpite e converte para inteiro\n",
    "    tentativas += 1  # Incrementa o contador de tentativas\n",
    "\n",
    "    if palpite < numero_secreto:  # Verifica se o palpite é menor que o número secreto\n",
    "        \n",
    "        print(\"O número secreto é maior. Tente novamente!\")  # Informa ao usuário que o número secreto é maior\n",
    "        \n",
    "    elif palpite > numero_secreto:  # Verifica se o palpite é maior que o número secreto\n",
    "        \n",
    "        print(\"O número secreto é menor. Tente novamente!\")  # Informa ao usuário que o número secreto é menor\n",
    "        \n",
    "    else:  # Se o palpite não for nem maior nem menor, ele deve ser igual\n",
    "        \n",
    "        print(f\"Parabéns! Você acertou o número secreto {numero_secreto} em {tentativas} tentativas.\")  # Imprime uma mensagem de sucesso\n",
    "        \n",
    "        break  # Sai do loop, já que o número correto foi adivinhado\"\"\"\n"
   ]
  },
  {
   "cell_type": "code",
   "execution_count": null,
   "metadata": {},
   "outputs": [
    {
     "name": "stdout",
     "output_type": "stream",
     "text": [
      "Digite um número menor!\n",
      "Digite um número menor!\n",
      "A soma dos números digitados é: 9\n"
     ]
    }
   ],
   "source": []
  },
  {
   "cell_type": "code",
   "execution_count": null,
   "metadata": {},
   "outputs": [],
   "source": []
  },
  {
   "cell_type": "code",
   "execution_count": null,
   "metadata": {},
   "outputs": [],
   "source": []
  }
 ],
 "metadata": {
  "kernelspec": {
   "display_name": "Curso_Python",
   "language": "python",
   "name": "python3"
  },
  "language_info": {
   "codemirror_mode": {
    "name": "ipython",
    "version": 3
   },
   "file_extension": ".py",
   "mimetype": "text/x-python",
   "name": "python",
   "nbconvert_exporter": "python",
   "pygments_lexer": "ipython3",
   "version": "3.12.3"
  }
 },
 "nbformat": 4,
 "nbformat_minor": 2
}
